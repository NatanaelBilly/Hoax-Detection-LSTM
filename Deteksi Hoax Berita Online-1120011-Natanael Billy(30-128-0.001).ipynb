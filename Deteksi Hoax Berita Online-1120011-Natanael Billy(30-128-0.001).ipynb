{
 "cells": [
  {
   "cell_type": "markdown",
   "id": "15fdab8a",
   "metadata": {},
   "source": [
    "# Import Libary"
   ]
  },
  {
   "cell_type": "code",
   "execution_count": 1,
   "id": "0d092d76",
   "metadata": {
    "scrolled": true
   },
   "outputs": [
    {
     "name": "stderr",
     "output_type": "stream",
     "text": [
      "[nltk_data] Downloading package punkt to\n",
      "[nltk_data]     C:\\Users\\Asus\\AppData\\Roaming\\nltk_data...\n",
      "[nltk_data]   Package punkt is already up-to-date!\n"
     ]
    },
    {
     "data": {
      "text/plain": [
       "True"
      ]
     },
     "execution_count": 1,
     "metadata": {},
     "output_type": "execute_result"
    }
   ],
   "source": [
    "import numpy as np\n",
    "import pandas as pd #for read csv\n",
    "import matplotlib.pyplot as plt #for make plot\n",
    "import nltk #for tokenization at preprocessing\n",
    "import re # for regular expresion\n",
    "import seaborn as sns # for show chart\n",
    "import copy #for copy data\n",
    "\n",
    "#tensorflow\n",
    "import tensorflow as tf\n",
    "from tensorflow.keras.preprocessing.text import Tokenizer #fit on texts, text to sequence\n",
    "from tensorflow.keras.preprocessing.sequence import pad_sequences #padding\n",
    "from tensorflow.keras.layers import Embedding, LSTM, Dense #lstm layer\n",
    "from tensorflow.keras.models import Sequential #neural network model\n",
    "from tensorflow.keras.optimizers import Adam #optimizer\n",
    "\n",
    "from Sastrawi.Stemmer.StemmerFactory import StemmerFactory #lemmatization\n",
    "from Sastrawi.StopWordRemover.StopWordRemoverFactory import StopWordRemoverFactory #remove stopword\n",
    "\n",
    "from sklearn import metrics #mengukur performa model\n",
    "from sklearn.model_selection import train_test_split #split data\n",
    "from sklearn.preprocessing import LabelEncoder #for labeling class from index\n",
    "from sklearn.metrics import classification_report, accuracy_score # for report classification\n",
    "from sklearn.metrics import confusion_matrix # for confussion matrix\n",
    "\n",
    "from gensim.models import Word2Vec #embedding word2vec\n",
    "from gensim.models import FastText #embedding fasttext\n",
    "\n",
    "nltk.download('punkt')"
   ]
  },
  {
   "cell_type": "markdown",
   "id": "a3f7e390",
   "metadata": {},
   "source": [
    "# Dataset"
   ]
  },
  {
   "cell_type": "code",
   "execution_count": 2,
   "id": "5af6d327",
   "metadata": {
    "scrolled": false
   },
   "outputs": [],
   "source": [
    "class Dataset:\n",
    "    def getDataset(self):\n",
    "        data = pd.read_csv('5000summarized.csv')\n",
    "        return data"
   ]
  },
  {
   "cell_type": "markdown",
   "id": "e33f1cc0",
   "metadata": {},
   "source": [
    "# Preprocessing"
   ]
  },
  {
   "cell_type": "code",
   "execution_count": 3,
   "id": "8e652e7a",
   "metadata": {
    "scrolled": true
   },
   "outputs": [],
   "source": [
    "# Preprocessing:\n",
    "class Preprocessing:\n",
    "    def __init__(self):\n",
    "        self.i = 0  # Inisialisasi variabel i di konstruktor\n",
    "    def textPreprocessing(self, berita):\n",
    "        print(self.i,\"/5000\")\n",
    "        # Case folding\n",
    "        berita = berita.lower()\n",
    "\n",
    "        # Remove number\n",
    "        berita = re.sub(r'\\d+', '', berita)\n",
    "\n",
    "        # Remove punctuation\n",
    "        berita = re.sub(r'[^\\w\\s]', '', berita)\n",
    "\n",
    "        # Tokenisasi\n",
    "        token_berita = nltk.word_tokenize(berita)\n",
    "\n",
    "        # Lematisasi\n",
    "        factory = StemmerFactory()\n",
    "        stemmer = factory.create_stemmer()\n",
    "        token_berita =[stemmer.stem(token) for token in token_berita]\n",
    "\n",
    "        # Inisialisasi Sastrawi StopWordRemover\n",
    "        stopword_factory = StopWordRemoverFactory()\n",
    "        stopword_remover = stopword_factory.create_stop_word_remover()\n",
    "\n",
    "        # Hapus stopwords\n",
    "        token_berita = stopword_remover.remove(' '.join(token_berita)).split()\n",
    "        \n",
    "        # Gabungkan daftar kata-kata menjadi satu kalimat\n",
    "        hasil_preprocessing = ' '.join(token_berita)\n",
    "        self.i+=1\n",
    "        return hasil_preprocessing\n",
    "#         berita = berita.apply(lambda tokens: stopword_remover.remove(' '.join(tokens)).split())"
   ]
  },
  {
   "cell_type": "markdown",
   "id": "f8079670",
   "metadata": {},
   "source": [
    "# Max Length and Unique Word"
   ]
  },
  {
   "cell_type": "code",
   "execution_count": 4,
   "id": "b39df4f3",
   "metadata": {},
   "outputs": [],
   "source": [
    "class WordTokenization:\n",
    "    def getUniqueWords(self, arr_sentences): \n",
    "        unique_words = 0\n",
    "        max_word_length = 0\n",
    "        min_word_length = float('inf')\n",
    "          \n",
    "        for i, text in enumerate(arr_sentences):\n",
    "            current_length = len(text)\n",
    "             # Memperbarui panjang kata maksimum\n",
    "            if len(text) > max_word_length:\n",
    "                max_word_length = current_length\n",
    "            \n",
    "            # Memperbarui panjang kata minimum\n",
    "            if current_length < min_word_length:\n",
    "                min_word_length = current_length    \n",
    "\n",
    "        # Menghitung jumlah kata unik di dataset\n",
    "        find_unique_word = set(word for text in arr_sentences for word in text)\n",
    "        unique_words = len(find_unique_word)\n",
    "        \n",
    "        return unique_words, max_word_length, min_word_length"
   ]
  },
  {
   "cell_type": "markdown",
   "id": "b2877958",
   "metadata": {},
   "source": [
    "# Word2vec"
   ]
  },
  {
   "cell_type": "markdown",
   "id": "c45816f8",
   "metadata": {},
   "source": [
    "vector_size=100, alpha=0.025, window=5, min_count=5, max_vocab_size=None, sample=0.001, seed=1, workers=3, min_alpha=0.0001, sg=0, hs=0, negative=5, ns_exponent=0.75, cbow_mean=1, hashfxn=<built-in function hash>, epochs=5, null_word=0, trim_rule=None, sorted_vocab=1, batch_words=10000, compute_loss=False, callbacks=(), comment=None, max_final_vocab=None, shrink_windows=True"
   ]
  },
  {
   "cell_type": "code",
   "execution_count": 5,
   "id": "5e77baa5",
   "metadata": {},
   "outputs": [],
   "source": [
    "#word2vec\n",
    "class EmbeddingWord2Vec:\n",
    "    def initializeWord2Vec(self, word_lists):\n",
    "        model = Word2Vec(sentences=word_lists, vector_size=100, window=5, min_count=1, alpha=0.025, sg=0)\n",
    "#         model.save(\"E:/ITHB/Semester 7/Tugas akhir/Model/Word2Vec/word2vec2.model\")\n",
    "        vocab = sorted(model.wv.key_to_index) #membuat daftar vocab berdasar index\n",
    "        vector = model.wv[vocab] #mengambil vektor kata\n",
    "        return vector "
   ]
  },
  {
   "cell_type": "markdown",
   "id": "5291879e",
   "metadata": {},
   "source": [
    "# GloVe"
   ]
  },
  {
   "cell_type": "code",
   "execution_count": 6,
   "id": "d16aacd5",
   "metadata": {},
   "outputs": [],
   "source": [
    "class EmbeddingGloVe:\n",
    "    def load_glove_embeddings(self, file_path):\n",
    "        embeddings_index = {}\n",
    "        with open(file_path, encoding=\"utf-8\") as f:\n",
    "            for line in f:\n",
    "                word, coefs = line.split(maxsplit=1) #Memisahkan kata dan koefisien dari setiap baris\n",
    "                coefs = np.fromstring(coefs, dtype='float32', sep=\" \") #Mengubah string koefisien menjadi array NumPy(float)\n",
    "                embeddings_index[word] = coefs #menyimpan kata dan vekor\n",
    "        return embeddings_index\n",
    "    def create_word_vectors_matrix(self, file_path):\n",
    "        embeddings_index = self.load_glove_embeddings(file_path)\n",
    "        embedding_matrix = np.zeros((len(embeddings_index), 100)) #membuat matrix 0 dengan size 100D\n",
    "\n",
    "        for i, word in enumerate(embeddings_index):\n",
    "            embedding_vector = embeddings_index[word] #Mendapatkan vektor embedding untuk kata tertentu.\n",
    "            if embedding_vector is not None:\n",
    "                embedding_matrix[i] = embedding_vector #Menyimpan vektor embedding dalam matriks embedding pada baris ke-i.\n",
    "\n",
    "        return embedding_matrix"
   ]
  },
  {
   "cell_type": "markdown",
   "id": "b00091f3",
   "metadata": {},
   "source": [
    "# FastText"
   ]
  },
  {
   "cell_type": "markdown",
   "id": "1194e051",
   "metadata": {},
   "source": [
    "hs=0, vector_size=100, alpha=0.025, window=5, min_count=5, max_vocab_size=None, word_ngrams=1, sample=0.001, seed=1, workers=3, min_alpha=0.0001, negative=5, ns_exponent=0.75, cbow_mean=1, hashfxn=<built-in function hash>, epochs=5, null_word=0, min_n=3, max_n=6, sorted_vocab=1, bucket=2000000, trim_rule=None, batch_words=10000, callbacks=(), max_final_vocab=None, shrink_windows=True"
   ]
  },
  {
   "cell_type": "code",
   "execution_count": 7,
   "id": "009fac89",
   "metadata": {},
   "outputs": [],
   "source": [
    "class EmbeddingFastText:\n",
    "    def initializeFastText(self, word_lists):\n",
    "        model = FastText(sentences=word_lists, vector_size=100, window=5, min_count=1, epochs=5, alpha=0.025, sg=0, min_n=3, max_n=6)\n",
    "#         model.save(\"E:/ITHB/Semester 7/Tugas akhir/Model/FastText2.model\")\n",
    "        vocab = sorted(model.wv.key_to_index)\n",
    "        vector = model.wv[vocab]\n",
    "        return vector"
   ]
  },
  {
   "cell_type": "markdown",
   "id": "d9973155",
   "metadata": {},
   "source": [
    "# Long Short Term Memory"
   ]
  },
  {
   "cell_type": "code",
   "execution_count": 8,
   "id": "13f4f2b9",
   "metadata": {},
   "outputs": [],
   "source": [
    "class GenerateModel:\n",
    "    # Function for Create Model \n",
    "    def createModel(self, dimension, embedding_matrix_weight):\n",
    "        custom_optimizer = Adam(learning_rate=0.001)\n",
    "        model = Sequential()\n",
    "        model.add(Embedding(input_dim=len(embedding_matrix_weight), output_dim=dimension, input_length=max_word_length, weights=[embedding_matrix_weight], trainable=False))\n",
    "        model.add(LSTM(units=64)) #tanh(ct&ht), sigmoid =(it,ot,ft), Return sequences: False(return output untuk timestep terakhir)\n",
    "        model.add(Dense(units=1, activation='sigmoid'))\n",
    "        model.compile(optimizer=custom_optimizer, loss='binary_crossentropy', metrics=['accuracy'])\n",
    "        print(\"=================================================================\\n\")\n",
    "        print(\"                           MODEL SUMMARY\\n\")\n",
    "        print(\"=================================================================\\n\")\n",
    "        model.summary()\n",
    "        return model\n",
    "    \n",
    "    # Function Create Plot Diagram Accuracy & Validation Accuracy\n",
    "    def showPlotAccuracyModel(self, model):\n",
    "        print(\"=================================================================\\n\")\n",
    "        print(\"                        PLOT ACCURACY MODEL\\n\")\n",
    "        print(\"=================================================================\\n\")\n",
    "        # History Model Accuracy\n",
    "        plt.plot(model.history['accuracy'])\n",
    "        plt.plot(model.history['val_accuracy'])\n",
    "        plt.title(\"Akurasi Model\")\n",
    "        plt.xlabel(\"epoch\")\n",
    "        plt.ylabel(\"accuracy\")\n",
    "        plt.legend([\"train\", \"validation\"], loc=\"upper left\")\n",
    "        plt.show()\n",
    "    \n",
    "    # Function Create Plot Diagram Loss & Validation Loss\n",
    "    def showPlotLossModel(self, model):\n",
    "        print(\"=================================================================\\n\")\n",
    "        print(\"                          PLOT LOSS MODEL\\n\")\n",
    "        print(\"=================================================================\\n\")\n",
    "        # History Model Loss\n",
    "        plt.plot(model.history['loss'])\n",
    "        plt.plot(model.history['val_loss'])\n",
    "        plt.title(\"Loss Model\")\n",
    "        plt.xlabel(\"epoch\")\n",
    "        plt.ylabel(\"loss\")\n",
    "        plt.legend([\"train\", \"validation\"], loc=\"upper left\")\n",
    "        plt.show()\n",
    "    \n",
    "    # Create prediction using data training & classification report\n",
    "    def createPredictionClassificationReport(self, model, X_test, Y_test): \n",
    "        print(\"=================================================================\\n\")\n",
    "        print(\"                      CLASSIFICATION REPORT\\n\")\n",
    "        print(\"=================================================================\\n\")\n",
    "        predictions = model.predict(X_test)\n",
    "        # Menentukan ambang batas\n",
    "        threshold = 0.5\n",
    "        \n",
    "        # Konversi nilai probabilitas menjadi label kelas (binary classification)\n",
    "        binary_predictions = [1 if p > threshold else 0 for p in predictions]\n",
    "        \n",
    "        # Menghitung akurasi dengan accuracy_score\n",
    "        accuracy = accuracy_score(Y_test, binary_predictions)\n",
    "        \n",
    "        # Mencetak akurasi\n",
    "        print(\"Accuracy: \", accuracy)\n",
    "        print(classification_report(Y_test, binary_predictions, labels=[1, 0], target_names=[\"hoax\", \"valid\"]))\n",
    "        return predictions\n",
    "    \n",
    "    # Create Evaluate Loss & Accuracy for data testing\n",
    "    def showEvaluateModel(self, model, X_test, Y_test): \n",
    "        print(\"=================================================================\\n\")\n",
    "        print(\"                         EVALUATE MODEL\\n\")\n",
    "        print(\"=================================================================\\n\")\n",
    "        evaluate = model.evaluate(X_test, Y_test)\n",
    "        print(\"Accuracy : \", evaluate[1], \"\\n\")\n",
    "        print(\"Loss : \", evaluate[0], \"\\n\")\n",
    "        \n",
    "    # Confusion Matrix\n",
    "    def showConfusionMatrix(self, Y_actual, Y_predicted):\n",
    "        print(\"=================================================================\\n\")\n",
    "        print(\"                       CONFUSION MATRIX\\n\")\n",
    "        print(\"=================================================================\\n\")\n",
    "        threshold = 0.5\n",
    "\n",
    "        # Konversi nilai probabilitas menjadi label kelas (binary classification)\n",
    "        binary_actual = [1 if y > threshold else 0 for y in Y_actual]\n",
    "        binary_predicted = [1 if p > threshold else 0 for p in Y_predicted]\n",
    "    \n",
    "        cm = metrics.confusion_matrix(binary_actual, binary_predicted)\n",
    "        df_cm = pd.DataFrame(cm, index=[\"valid\", \"hoax\"], columns=[\"valid\", \"hoax\"])\n",
    "        plt.figure(figsize = (6,4))\n",
    "        heatmap = sns.heatmap(df_cm, annot=True, fmt =\"d\")\n",
    "        heatmap.set(xlabel='Predicted Label', ylabel='Actual Label')\n",
    "        plt.show()\n",
    "        return df_cm\n",
    "    \n",
    "    def getAccuracyClassHoax(self, df_cm):\n",
    "        TP = df_cm['hoax']['hoax']\n",
    "        TN = df_cm['valid']['valid'] \n",
    "        FP = df_cm['valid']['hoax']\n",
    "        FN = df_cm['hoax']['valid']\n",
    "        return (TP+TN)/(TP+FP+TN+FN)\n",
    "    \n",
    "    def getAccuracyClassValid(self, df_cm):\n",
    "        TP = df_cm['valid']['valid']\n",
    "        TN = df_cm['hoax']['hoax']\n",
    "        FP = df_cm['hoax']['valid']\n",
    "        FN = df_cm['valid']['hoax']\n",
    "        return (TP+TN)/(TP+FP+TN+FN)\n",
    "    \n",
    "    # Show Accuracy Each Class\n",
    "    def showAccuracyEachClass(self, df_cm):\n",
    "        print(\"=================================================================\\n\")\n",
    "        print(\"                       ACCURACY EACH CLASS\\n\")\n",
    "        print(\"=================================================================\\n\")\n",
    "        print(\"Accuracy Valid: \", self.getAccuracyClassValid(df_cm))\n",
    "        print(\"Accuracy Hoax: \", self.getAccuracyClassHoax(df_cm))\n",
    "    \n",
    "    def saveModel(self, model, index):\n",
    "        model.save('/Users/Asus/Tugas Akhir/Experiment/Model/' + str(index))\n",
    "\n",
    "    def loadModel(self, index):\n",
    "        new_model = tf.keras.models.load_model('/Users/Asus/Tugas Akhir/Experiment/Model/' + str(index))\n",
    "        return new_model"
   ]
  },
  {
   "cell_type": "markdown",
   "id": "bbdb19b9",
   "metadata": {},
   "source": [
    "# Initialization"
   ]
  },
  {
   "cell_type": "code",
   "execution_count": 9,
   "id": "436c561a",
   "metadata": {},
   "outputs": [],
   "source": [
    "dataset = Dataset()\n",
    "preprocessing = Preprocessing()\n",
    "tokenizer = WordTokenization()\n",
    "tokenizerKeras = Tokenizer()\n",
    "word2vec = EmbeddingWord2Vec()\n",
    "glove = EmbeddingGloVe()\n",
    "fasttext = EmbeddingFastText()\n",
    "generate_model = GenerateModel()"
   ]
  },
  {
   "cell_type": "markdown",
   "id": "3931d3a9",
   "metadata": {},
   "source": [
    "# Get Dataset"
   ]
  },
  {
   "cell_type": "code",
   "execution_count": 10,
   "id": "0e9eecea",
   "metadata": {},
   "outputs": [
    {
     "data": {
      "text/html": [
       "<div>\n",
       "<style scoped>\n",
       "    .dataframe tbody tr th:only-of-type {\n",
       "        vertical-align: middle;\n",
       "    }\n",
       "\n",
       "    .dataframe tbody tr th {\n",
       "        vertical-align: top;\n",
       "    }\n",
       "\n",
       "    .dataframe thead th {\n",
       "        text-align: right;\n",
       "    }\n",
       "</style>\n",
       "<table border=\"1\" class=\"dataframe\">\n",
       "  <thead>\n",
       "    <tr style=\"text-align: right;\">\n",
       "      <th></th>\n",
       "      <th>label</th>\n",
       "      <th>summarized</th>\n",
       "    </tr>\n",
       "  </thead>\n",
       "  <tbody>\n",
       "    <tr>\n",
       "      <th>0</th>\n",
       "      <td>0</td>\n",
       "      <td>Mantan Gubernur DKI Jakarta Anies Baswedan men...</td>\n",
       "    </tr>\n",
       "    <tr>\n",
       "      <th>1</th>\n",
       "      <td>0</td>\n",
       "      <td>Gubernur Sumatera Utara Edy Rahmayadi membuka ...</td>\n",
       "    </tr>\n",
       "    <tr>\n",
       "      <th>2</th>\n",
       "      <td>0</td>\n",
       "      <td>PKB bakal mengusung Menteri Ketenagakerjaan Id...</td>\n",
       "    </tr>\n",
       "    <tr>\n",
       "      <th>3</th>\n",
       "      <td>0</td>\n",
       "      <td>Ketua Umum Partai Kebangkitan Nusantara (PKN) ...</td>\n",
       "    </tr>\n",
       "    <tr>\n",
       "      <th>4</th>\n",
       "      <td>0</td>\n",
       "      <td>Dewan Pimpinan Pusat PKN menyiapkan jabatan kh...</td>\n",
       "    </tr>\n",
       "    <tr>\n",
       "      <th>...</th>\n",
       "      <td>...</td>\n",
       "      <td>...</td>\n",
       "    </tr>\n",
       "    <tr>\n",
       "      <th>4757</th>\n",
       "      <td>1</td>\n",
       "      <td>Beberapa waktu lalu sempat beredar sebuah pesa...</td>\n",
       "    </tr>\n",
       "    <tr>\n",
       "      <th>4758</th>\n",
       "      <td>1</td>\n",
       "      <td>Sebuah gua bernama Gua Tao 8 Putri yang berada...</td>\n",
       "    </tr>\n",
       "    <tr>\n",
       "      <th>4759</th>\n",
       "      <td>1</td>\n",
       "      <td>Program kuota belajar pulsa 250rb dan kuota 75...</td>\n",
       "    </tr>\n",
       "    <tr>\n",
       "      <th>4760</th>\n",
       "      <td>1</td>\n",
       "      <td>Pasangan kekasih gancet diduga pelaku kena Aza...</td>\n",
       "    </tr>\n",
       "    <tr>\n",
       "      <th>4761</th>\n",
       "      <td>1</td>\n",
       "      <td>Tolong beri tahu siapa saja yang kadar oksigen...</td>\n",
       "    </tr>\n",
       "  </tbody>\n",
       "</table>\n",
       "<p>4762 rows × 2 columns</p>\n",
       "</div>"
      ],
      "text/plain": [
       "      label                                         summarized\n",
       "0         0  Mantan Gubernur DKI Jakarta Anies Baswedan men...\n",
       "1         0  Gubernur Sumatera Utara Edy Rahmayadi membuka ...\n",
       "2         0  PKB bakal mengusung Menteri Ketenagakerjaan Id...\n",
       "3         0  Ketua Umum Partai Kebangkitan Nusantara (PKN) ...\n",
       "4         0  Dewan Pimpinan Pusat PKN menyiapkan jabatan kh...\n",
       "...     ...                                                ...\n",
       "4757      1  Beberapa waktu lalu sempat beredar sebuah pesa...\n",
       "4758      1  Sebuah gua bernama Gua Tao 8 Putri yang berada...\n",
       "4759      1  Program kuota belajar pulsa 250rb dan kuota 75...\n",
       "4760      1  Pasangan kekasih gancet diduga pelaku kena Aza...\n",
       "4761      1  Tolong beri tahu siapa saja yang kadar oksigen...\n",
       "\n",
       "[4762 rows x 2 columns]"
      ]
     },
     "execution_count": 10,
     "metadata": {},
     "output_type": "execute_result"
    }
   ],
   "source": [
    "data = dataset.getDataset()\n",
    "data"
   ]
  },
  {
   "cell_type": "markdown",
   "id": "b6b209af",
   "metadata": {},
   "source": [
    "# Text Preprocessing"
   ]
  },
  {
   "cell_type": "markdown",
   "id": "f2566bd0",
   "metadata": {},
   "source": [
    "melakukan text preprocessing"
   ]
  },
  {
   "cell_type": "code",
   "execution_count": 11,
   "id": "1b7edc88",
   "metadata": {},
   "outputs": [],
   "source": [
    "# cleanData = data['summarized'].apply(preprocessing.textPreprocessing)\n",
    "# cleanData"
   ]
  },
  {
   "cell_type": "markdown",
   "id": "2067bd59",
   "metadata": {},
   "source": [
    "menyimpan csv hasil preprocessing"
   ]
  },
  {
   "cell_type": "code",
   "execution_count": 12,
   "id": "807cad10",
   "metadata": {
    "scrolled": true
   },
   "outputs": [],
   "source": [
    "# # saving the dataframe\n",
    "# cleanData.to_csv('clean_dataset4.csv', header=False, index=False)"
   ]
  },
  {
   "cell_type": "markdown",
   "id": "92e789d0",
   "metadata": {},
   "source": [
    "read csv yang sudah di preprocessing"
   ]
  },
  {
   "cell_type": "code",
   "execution_count": 13,
   "id": "9c42fd4f",
   "metadata": {},
   "outputs": [
    {
     "data": {
      "text/html": [
       "<div>\n",
       "<style scoped>\n",
       "    .dataframe tbody tr th:only-of-type {\n",
       "        vertical-align: middle;\n",
       "    }\n",
       "\n",
       "    .dataframe tbody tr th {\n",
       "        vertical-align: top;\n",
       "    }\n",
       "\n",
       "    .dataframe thead th {\n",
       "        text-align: right;\n",
       "    }\n",
       "</style>\n",
       "<table border=\"1\" class=\"dataframe\">\n",
       "  <thead>\n",
       "    <tr style=\"text-align: right;\">\n",
       "      <th></th>\n",
       "      <th>text_berita</th>\n",
       "    </tr>\n",
       "  </thead>\n",
       "  <tbody>\n",
       "    <tr>\n",
       "      <th>0</th>\n",
       "      <td>former governor of DKI Jakarta, Anies Baswedan...</td>\n",
       "    </tr>\n",
       "    <tr>\n",
       "      <th>1</th>\n",
       "      <td>The Governor of North Sumatra, Edy Rahmayadi, ...</td>\n",
       "    </tr>\n",
       "    <tr>\n",
       "      <th>2</th>\n",
       "      <td>PKB will nominate the Minister of Manpower, Id...</td>\n",
       "    </tr>\n",
       "    <tr>\n",
       "      <th>3</th>\n",
       "      <td>General Chairperson of the Indonesian Rise of ...</td>\n",
       "    </tr>\n",
       "    <tr>\n",
       "      <th>4</th>\n",
       "      <td>The PKN Central Leadership Council is ready fo...</td>\n",
       "    </tr>\n",
       "    <tr>\n",
       "      <th>...</th>\n",
       "      <td>...</td>\n",
       "    </tr>\n",
       "    <tr>\n",
       "      <th>4757</th>\n",
       "      <td>Some time ago there was a personal message cir...</td>\n",
       "    </tr>\n",
       "    <tr>\n",
       "      <th>4758</th>\n",
       "      <td>cave fruit, cave name, tao putri deli, serdang...</td>\n",
       "    </tr>\n",
       "    <tr>\n",
       "      <th>4759</th>\n",
       "      <td>RB credit teaching quota program GB quota lect...</td>\n",
       "    </tr>\n",
       "    <tr>\n",
       "      <th>4760</th>\n",
       "      <td>put up love, cheat, suspect that if you sell, ...</td>\n",
       "    </tr>\n",
       "    <tr>\n",
       "      <th>4761</th>\n",
       "      <td>Tell anyone low oxygen levels</td>\n",
       "    </tr>\n",
       "  </tbody>\n",
       "</table>\n",
       "<p>4762 rows × 1 columns</p>\n",
       "</div>"
      ],
      "text/plain": [
       "                                            text_berita\n",
       "0     former governor of DKI Jakarta, Anies Baswedan...\n",
       "1     The Governor of North Sumatra, Edy Rahmayadi, ...\n",
       "2     PKB will nominate the Minister of Manpower, Id...\n",
       "3     General Chairperson of the Indonesian Rise of ...\n",
       "4     The PKN Central Leadership Council is ready fo...\n",
       "...                                                 ...\n",
       "4757  Some time ago there was a personal message cir...\n",
       "4758  cave fruit, cave name, tao putri deli, serdang...\n",
       "4759  RB credit teaching quota program GB quota lect...\n",
       "4760  put up love, cheat, suspect that if you sell, ...\n",
       "4761                      Tell anyone low oxygen levels\n",
       "\n",
       "[4762 rows x 1 columns]"
      ]
     },
     "execution_count": 13,
     "metadata": {},
     "output_type": "execute_result"
    }
   ],
   "source": [
    "#read new file\n",
    "cleanData = pd.read_csv('clean_dataset5000_pertama_translated.csv', header=None, names=['text_berita'])\n",
    "cleanData"
   ]
  },
  {
   "cell_type": "markdown",
   "id": "d64e59e3",
   "metadata": {},
   "source": [
    "# Data Split"
   ]
  },
  {
   "cell_type": "code",
   "execution_count": 14,
   "id": "2be090e0",
   "metadata": {},
   "outputs": [
    {
     "name": "stdout",
     "output_type": "stream",
     "text": [
      "Data Pelatihan (X):\n",
      "                                            text_berita\n",
      "2763  real secret room skulls not only brigadier j w...\n",
      "2547  Kraken enters RI and is most contagious throug...\n",
      "624   Mayor of Surakarta and the first son of Presid...\n",
      "1777  discourse on the duet of the mayor of Solo, Gi...\n",
      "2688  mzee john nandi born year john celebrated year...\n",
      "...                                                 ...\n",
      "4426  Gajah Mada TV YouTube channel uploads video ti...\n",
      "466   Gibran Rakabuming was reluctant to answer in a...\n",
      "3092  God, look at how the Chinese make eggs. Google...\n",
      "3772  Russian colonialists raise the flag of the Sov...\n",
      "860   The Democratic Party removed the position of d...\n",
      "\n",
      "[3809 rows x 1 columns]\n",
      "Label Pelatihan (y):\n",
      "2763    1\n",
      "2547    1\n",
      "624     0\n",
      "1777    0\n",
      "2688    1\n",
      "       ..\n",
      "4426    1\n",
      "466     0\n",
      "3092    1\n",
      "3772    1\n",
      "860     0\n",
      "Name: label, Length: 3809, dtype: int64\n",
      "\n",
      "Data Pengujian (X):\n",
      "                                            text_berita\n",
      "828   head of body wins milu bappilu pdip bambang wu...\n",
      "1061  muhammad romahurmuziy alias romi general joins...\n",
      "1231  KPU Bawaslu agreed to allow political parties ...\n",
      "2570  Is it true that taking care of the takmir of A...\n",
      "1417  chairman of commission ii DPR RI ahmad dol kur...\n",
      "...                                                 ...\n",
      "2939  The state asks for respect for LGBT rights, ma...\n",
      "3138  human beings are like natural animals who are ...\n",
      "3317  Don't be like the Jokowi of the family, it's n...\n",
      "4317  mashrafhaidari uploaded a tweet with a photo o...\n",
      "2962  will pay close attention to the details to mak...\n",
      "\n",
      "[953 rows x 1 columns]\n",
      "Label Pengujian (y):\n",
      "828     0\n",
      "1061    0\n",
      "1231    0\n",
      "2570    1\n",
      "1417    0\n",
      "       ..\n",
      "2939    1\n",
      "3138    1\n",
      "3317    1\n",
      "4317    1\n",
      "2962    1\n",
      "Name: label, Length: 953, dtype: int64\n"
     ]
    }
   ],
   "source": [
    "X_train, X_test, Y_train, Y_test = train_test_split(cleanData, data['label'], test_size=0.2, random_state=42)\n",
    "print(\"Data Pelatihan (X):\")\n",
    "print(X_train)\n",
    "print(\"Label Pelatihan (y):\")\n",
    "print(Y_train)\n",
    "\n",
    "print(\"\\nData Pengujian (X):\")\n",
    "print(X_test)\n",
    "# X_test.to_csv('xtest.csv', header=False, index=False)\n",
    "print(\"Label Pengujian (y):\")\n",
    "print(Y_test)\n",
    "# Y_test.to_csv('ytest.csv', header=False, index=False)"
   ]
  },
  {
   "cell_type": "code",
   "execution_count": 15,
   "id": "abb0d95f",
   "metadata": {},
   "outputs": [
    {
     "name": "stdout",
     "output_type": "stream",
     "text": [
      "Count Item Text: 4762\n",
      "[['real', 'secret', 'room', 'skulls', 'not', 'only', 'brigadier', 'j', 'who', 'is', 'occupied', 'by', 'smbobesarcnncnnen', 'ter'], ['Kraken', 'enters', 'RI', 'and', 'is', 'most', 'contagious', 'through', 'antibodies'], ['Mayor', 'of', 'Surakarta', 'and', 'the', 'first', 'son', 'of', 'President', 'Joko', 'Widodo', ',', 'Gibran', 'Rakabuming', 'Jokowi', ',', 'said', 'that', 'his', 'younger', 'brother', ',', 'Kaesang', 'Pangarep', ',', 'entered', 'the', 'world', 'of', 'politics', ',', 'even', 'though', 'he', 'knew', 'he', 'was', 'starting', 'to', 'get', 'involved', 'in', 'politics', ',', 'he', 'had', 'invited', 'Kawir', 'Jokowi', ',', 'several', 'infrastructure', 'projects', 'were', 'in', 'the', 'process', 'of', 'being', 'worked', 'on', 'in', 'the', 'city', 'of', 'Solo', ',', 'as', 'long', 'as', 'a', 'political', 'party', 'wanted', 'to', 'join', 'the', 'party', 'leader', ',', 'I', 'know', 'so', 'that', 'the', 'money', 'would', 'break', 'up', '.', 'I', 'think', 'it', \"'s\", 'very', 'important', 'to', 'keep', 'moving', 'forward', ',', 'we', 'can', 'sell', 'in', 'a', 'better', 'way', ',', 'we', 'can', 'sell', 'all', 'kinds', 'of', 'things', ',', 'but', 'I', 'never', 'felt', 'the', 'need', 'to', 'ask', 'to', 'join', 'in', ',', 'I', 'think', 'there', 'is', 'something', 'so', 'we', 'started', 'the', 'process', ',', 'we', 'have', 'to', 'be', 'honest', ',', 'it', \"'s\", 'not', 'about', 'money', ',', 'it', \"'s\", 'about', 'money', ',', 'it', \"'s\", 'about', 'self-worth', ',', 'like', 'Rich', 'people', 'have', 'made', 'a', 'lot', 'of', 'contributions', 'to', 'building', 'the', 'nation', 'state', 'and', 'have', 'also', 'had', 'the', 'opportunity', 'to', 'be', 'role', 'models', 'for', 'all', 'Americans', '.', 'They', 'also', 'have', 'to', 'be', 'flexible', 'in', 'dealing', 'with', 'foreign', 'affairs', 'in', 'terms', 'of', 'giving', 'support', 'to', 'political', 'parties', ',', 'so', 'far', 'only', 'a', 'few', 'people', 'have', 'come', 'forward', 'to', 'support', 'presidential', 'candidates', '.'], ['discourse', 'on', 'the', 'duet', 'of', 'the', 'mayor', 'of', 'Solo', ',', 'Gibran', ',', 'Rakabuming', ',', 'Rake', 'Anies', 'Baswedan', ',', 'electing', 'the', 'president', ',', 'not', 'realizing', 'that', 'there', 'are', 'obstacles', 'to', 'the', 'rules', ',', 'Gibran', 'can', 'accompany', 'Anies', ',', 'the', 'minimum', 'age', 'requirement', 'is', 'in', 'accordance', 'with', 'the', 'article', 'letter', 'q', ',', 'the', 'number', 'of', 'the', 'year', ',', 'October', ',', 'May', ',', 'Jokowi', 'feels', 'that', 'he', 'has', 'a', 'good', 'time', ',', 'serving', 'the', 'people', ',', 'we', 'will', 'always', 'help', 'each', 'other', 'together', 'of', 'course', 'the', 'opportunity', 'is', 'good', 'and', 'it', 'will', 'definitely', 'sell', 'well', ',', 'you', 'know', ',', 'it', \"'s\", 'not', 'the', 'end', 'of', 'the', 'world', ',', 'everyone', 'has', 'to', 'be', 'ready', 'to', 'welcome', 'the', 'future', ',', 'hopefully', 'it', 'will', 'be', 'successful', ',', 'click', 'to', 'know', 'more', 'about', 'the', 'discourse', ',', 'click', 'here', ',', 'further', 'information', 'about', 'the', 'presidential', 'election', ',', 'read', 'about', 'the', 'village', ',', 'Nasdem', 'Ahmad', 'Ali', ',', 'to', 'offer', 'a', 'democratic', 'coalition', ',', 'even', 'the', 'response', 'of', 'the', 'democratic', 'party', 'elite', 'as', 'the', 'party', 'of', 'the', 'moment', 'In', 'the', 'middle', 'of', 'the', 'coalition', 'polls', 'with', 'Nasdem', ',', 'the', 'party', \"'s\", 'deputy', 'chairman', ',', 'Syadem', 'Ahmadali', ',', 'has', 'not', 'yet', 'discussed', 'a', 'duet'], ['mzee', 'john', 'nandi', 'born', 'year', 'john', 'celebrated', 'year', 's', 'on', 'earth', 'few', 'days', 'agolive', 'long', 'agui', 'terjemah', 'emui', 'mzejohn', 'fendi', 'age', 'year', 'john', 'raya', 'earth', 'year', 'a', 'few', 'days', 'ago'], ['The', 'Golkar', 'party', 'is', 'reluctant', 'to', 'bring', 'in', 'the', 'number', 'of', 'former', 'cadres', 'who', 'have', 'joined', 'the', 'vulnerable', 'group', ',', 'Anies', 'Baswedan', ',', 'chairman', 'of', 'the', 'DPP', 'central', 'leadership', 'council', ',', 'the', 'Democratic', 'Party', ',', 'Dave', 'Akbarshah', ',', 'Fikarno', 'Laksono', ',', 'asked', 'the', 'Goanies', 'volunteer', 'group', 'not', 'to', 'take', 'the', 'Golkar', 'name', 'because', 'he', 'said', 'the', 'general', 'Golkar', 'would', 'support', 'the', 'presidential', 'candidate', ',', 'so', 'click', 'on', 'the', 'further', 'information', ',', 'click', 'here', 'to', 'read', 'how', 'to', 'do', 'it', '.', 'conservatives', 'face', 'Anies', ',', 'support', 'Anies', 'in', 'the', 'presidential', 'election', ',', 'the', 'starting', 'point', 'is', 'the', 'movement', ',', 'come', 'on', ',', 'the', 'American', 'people', ',', 'the', 'feeling', 'of', 'struggle', ',', 'support', 'us', ',', 'we', 'will', 'continue', 'to', 'move', 'forward', ',', 'this', 'is', 'not', 'pragmatism', ',', 'it', 'is', 'pragmatism', ',', 'it', 'sells', 'to', 'everyone', ',', 'no', 'matter', 'what', 'you', 'do', ',', 'we', 'will', 'cooperate', 'with', 'the', 'Indonesian', 'people', ',', 'this', 'will', 'definitely', 'remain', 'relevant', 'and', 'will', 'always', 'be', 'the', 'center', 'of', 'national', 'attention', 'for', 'the', 'community', ',', 'is', \"n't\", 'it', '?', 'also', 'political', 'attitudes'], ['Reunion', 'action', 'for', 'the', 'year', 'of', 'not', 'holding', 'Monas', 'is', 'a', 'sign', 'that', 'political', 'prestige', 'has', 'dimmed', '.', 'Unique', 'action', 'for', 'holding', 'the', 'Grand', 'Mosque', 'of', 'Attin', ',', 'East', 'Jakarta', ',', 'title', 'of', 'Munajat', 'Akbar', 'Indonesia', ',', 'Salawat', ',', 'the', 'committee', 'did', 'not', 'invite', 'political', 'figures', 'to', 'attend', 'the', 'event', ',', 'called', 'Ujang', 'Komaruddin', ',', 'the', 'value', 'of', 'moving', 'the', 'location', 'of', 'the', 'Attin', 'mosque', 'reunion', 'this', 'year', ',', 'an', 'indication', 'that', 'the', 'movement', 'is', 'starting', 'to', 'get', 'weak', ',', 'proof', 'that', 'everyone', \"'s\", 'feelings', 'are', 'weak', 'be', 'strong', ',', 'keep', 'moving', 'forward', ',', 'we', 'can', 'focus', 'on', 'building', 'a', 'strong', 'political', 'and', 'strong', 'region', 'of', 'the', 'vast', 'archipelago', ',', 'stronger', 'than', 'ever', ',', 'click', 'on', 'further', 'information', ',', 'click', 'here', ',', 'read', 'about', 'the', 'most', 'controversial', 'moments', ',', 'show', 'clips', ',', 'gallery', ',', 'see', 'what', 'the', 'elders', 'are', 'doing', ',', 'see', 'CNN', \"'s\", 'live', 'reunion', ',', 'Central', 'Jakarta', 'National', 'Monument', ',', 'you', 'can', 'see', 'Anies', \"'\", 'picture', '.', 'attached', 'to', 'Islamist', 'groups', 'playing', 'identity', 'politics', ',', 'Anies', \"'\", 'image', 'will', 'be', 'even', 'more', 'cornered', 'if', 'there', 'is', 'a', 'reunion', 'event', ',', 'if', 'Anies', 'is', 'invited', 'to', 'come', ',', 'accusations', 'against', 'political', 'opponents', 'will', 'become', 'more', 'intense', 'if', 'they', 'are', 'attached', 'to', 'pan', 'groups', ',', 'limited', 'space', 'for', 'action', '.', 'We', 'have', 'heard', 'from', 'Mr', 'Mueller', '.', 'We', 'are', 'looking', 'to', 'find', 'out', 'who', 'is', 'behind', 'this', 'action', '.', 'We', 'know', 'there', 'is', 'a', 'report', '.', 'Say', ',', 'until', 'now', ',', 'when', 'we', 'went', 'to', 'the', 'place', ',', 'we', 'thought', 'there', 'was', 'something', ',', 'so', 'we', 'started', 'the', 'process', 'of', 'withdrawing', 'the', 'official', 'method', ',', 'that', \"'s\", 'not', 'it', ',', 'that', \"'s\", 'also', 'a', 'form', 'of', 'effort', 'to', 'discredit', 'the', 'law', 'enforcement', 'organization', ',', 'which', 'has', 'been', 'damaged', 'due', 'to', 'years', 'of', 'hard', 'work', ',', 'it', \"'s\", 'true', 'that', 'someone', 'is', 'responsible', 'for', 'this', 'heinous', 'act', ',', 'whether', 'it', \"'s\", 'true', 'or', 'not', '.'], ['The', 'California', 'women', 'have', 'been', 'friends', 'for', 'a', 'long', 'time'], ['anies', 'baswedan', 'lebeting', 'presidential', 'candidate', 'forum', 'prone', 'yogyakarta', 'anies', 'baswedan', 'governor', 'of', 'dki', 'jakarta', 'aniessandi', 'baswedan', 'melebet', 'presidential', 'candidate', 'uthmform', 'relain', 'yoyaktaun'], ['give', 'wisdom', 'to', 'all', 'honorary', 'staff', ',', 'administrative', 'teachers', ',', 'healthy', 'farming', 'extension', 'workers', ',', 'above', 'the', 'age', 'of', '1', 'year', ',', 'appointed', 'as', 'PPPK', ',', 'who', 'know', 'the', 'employees', 'first', ',', 'work', 'promises', 'are', 'clearer', ',', 'please', 'confirm', 'directly', ',', 'there', 'is', 'a', 'civil', 'servant', 'rank', ',', 'not', 'Central', 'Jakarta', ',', 'Drs', 'Satya', 'Pratama', ',', 'Ssosa', ',', 'MSC', ',', 'number', 'W', ',', 'click', 'here', 'for', 'further', 'information', 'about', 'being', 'subject', 'to', 'ASNPPPK']]\n"
     ]
    }
   ],
   "source": [
    "dataTokenizationTrain = [nltk.word_tokenize(sentence)for sentence in X_train['text_berita']] #tokenisasi kalimat di x_train\n",
    "dataTokenizationTest = [nltk.word_tokenize(sentence)for sentence in X_test['text_berita']] #tokenisasi kalimat di x_test\n",
    "dataTokenization = [*dataTokenizationTrain, *dataTokenizationTest] #menggabungkan xtrain dan test untuk dicari max length nya\n",
    "print(\"Count Item Text:\", len(dataTokenization))\n",
    "print(dataTokenization[:10])"
   ]
  },
  {
   "cell_type": "code",
   "execution_count": 16,
   "id": "1dd15499",
   "metadata": {},
   "outputs": [
    {
     "name": "stdout",
     "output_type": "stream",
     "text": [
      "min word length :  1\n",
      "Max word length :  335\n",
      "Vocabulary Size :  28933\n"
     ]
    }
   ],
   "source": [
    "unique_words, max_word_length, min_word_length = tokenizer.getUniqueWords(dataTokenization)\n",
    "print(\"min word length : \", min_word_length) #4348\n",
    "print(\"Max word length : \", max_word_length) #574\n",
    "print(\"Vocabulary Size : \", unique_words)"
   ]
  },
  {
   "cell_type": "code",
   "execution_count": 17,
   "id": "f64e0a75",
   "metadata": {},
   "outputs": [
    {
     "name": "stdout",
     "output_type": "stream",
     "text": [
      "[[    0     0     0 ...    80 10897  6741]\n",
      " [    0     0     0 ...  5202   565  3582]\n",
      " [    0     0     0 ...    35   134     6]\n",
      " ...\n",
      " [    0     0     0 ...   177     1   209]\n",
      " [    0     0     0 ...   200    10 10713]\n",
      " [    0     0     0 ...   833  4638     6]]\n",
      "(3809, 335)\n"
     ]
    }
   ],
   "source": [
    "# padded_train, padded_test = tokenizer.paddingSequence(X_train['text_berita'], X_test['text_berita'], max_word_length)\n",
    "tokenizerKeras.fit_on_texts(dataTokenizationTrain)\n",
    "tokenizerKeras.fit_on_texts(dataTokenizationTest)\n",
    "sequencesTrain = tokenizerKeras.texts_to_sequences(dataTokenizationTrain)\n",
    "sequencesTest = tokenizerKeras.texts_to_sequences(dataTokenizationTest)\n",
    "#for word2vec\n",
    "padded_sequences_train = pad_sequences(sequencesTrain, maxlen=max_word_length, padding='pre')\n",
    "padded_sequences_test = pad_sequences(sequencesTest, maxlen=max_word_length, padding='pre')\n",
    "print(padded_sequences_train)\n",
    "print(padded_sequences_train.shape)\n",
    "#for glove\n",
    "padded_sequences_train2=copy.copy(padded_sequences_train)\n",
    "padded_sequences_test2=copy.copy(padded_sequences_test)\n",
    "#for fasttext\n",
    "padded_sequences_train3=copy.copy(padded_sequences_train)\n",
    "padded_sequences_test3=copy.copy(padded_sequences_test)\n",
    "# print(\"train\",'\\n',padded_sequences_train[:2])"
   ]
  },
  {
   "cell_type": "markdown",
   "id": "ed09cba3",
   "metadata": {},
   "source": [
    "# Model Word2Vec"
   ]
  },
  {
   "cell_type": "code",
   "execution_count": 99,
   "id": "b1ed9a4f",
   "metadata": {},
   "outputs": [
    {
     "name": "stdout",
     "output_type": "stream",
     "text": [
      "Embedding Matrix (100):\n",
      " [[ 0.6834671  -1.5421178  -1.1192737  -0.23305939  3.4562993   1.6355579\n",
      "   0.14131123  2.2639546  -0.24767289  0.6432494  -1.1364089  -0.88560486\n",
      "   1.2494277   3.0753734   0.3904482   1.0266904  -0.84455454  0.96704376\n",
      "   0.54807645 -0.21765208  1.714993   -1.1578325  -0.526671    0.21891189\n",
      "   1.1013931   0.05176101 -0.36473706 -0.05268415  0.9876787   0.6500747\n",
      "   2.185443    1.833219    0.44058564  1.507249    0.5249399   0.3446002\n",
      "  -1.1979448  -0.25059897  0.21197312 -0.6061104   0.40384194 -1.3786168\n",
      "  -0.03550746 -0.9993817   0.13035078 -1.651566   -0.856287   -2.2571077\n",
      "  -0.13249598  0.37823284  0.6394391  -3.0319002   0.5787136   0.15250956\n",
      "  -0.6198383   1.7368009   0.75860494 -0.561016    0.41418257 -1.2953427\n",
      "  -1.3372918  -2.024208    3.6517606   0.1720553  -2.4689884   1.420802\n",
      "   0.7364713  -0.26727736 -1.0601459  -0.01903145 -1.7072456  -0.07420567\n",
      "   0.8031361   0.8892577  -1.2675766  -2.2370172   1.3420221  -1.7702574\n",
      "  -1.1983079   0.1118474  -0.46621233 -1.5181197  -1.321852    3.6389987\n",
      "  -1.0866321  -1.2816383  -0.32599998  1.649898    0.63841766 -0.59306717\n",
      "   1.5757557  -0.06451317  0.2061915   0.03490152 -1.5776476   1.0165775\n",
      "   1.8478732   2.296529    1.4970251  -1.0337998 ]\n",
      " [-0.37974223 -0.55217725  0.06686001  0.12490311  0.54675025  0.6371987\n",
      "  -1.4705716  -0.14918722  1.9408443   1.0345447   0.34777358  0.5144242\n",
      "   0.12985037  1.2697853   0.4160683   0.44001096 -0.3906279  -0.61191744\n",
      "  -0.18715951  0.6145257  -0.04292652 -0.89118326 -0.6288164  -0.1395238\n",
      "  -0.89547366 -0.09641153 -0.48282805 -1.3982155  -0.35155815  0.21328786\n",
      "   0.6480644   0.04240519  0.81016314  0.80712205  0.3134511   0.8503219\n",
      "  -0.19017659 -1.6704547   0.6818498  -1.0842706  -0.59502244 -1.0983328\n",
      "  -0.03157978 -1.7020639   0.02439979 -1.3823638   1.4820682  -0.25562662\n",
      "  -0.3348868  -0.36277997  0.78986514 -0.6432151  -0.83442074  1.7234939\n",
      "  -0.4932213   1.5769223   0.54855794 -0.11812714 -0.7917296   0.5748745\n",
      "  -0.78617173  0.38258022 -0.41151044 -1.16014     0.08748287 -1.1145415\n",
      "   1.0020069  -0.43424588  0.69912714  1.1708616  -0.8461984   0.3847153\n",
      "   0.3497882  -0.75588375  0.63756454 -0.7685634  -1.2045289  -0.41278732\n",
      "  -0.48571932  0.05175845  0.2250529   1.297407   -0.16641176 -0.3805876\n",
      "  -0.42801952  0.7838911  -0.33135596  0.14099464 -0.96060485 -0.24073061\n",
      "   1.3184061  -0.27352503 -0.91656303 -0.2982383  -0.680812    0.99899685\n",
      "   1.1106524   0.2504874  -1.9736754  -0.48716205]] \n",
      "\n"
     ]
    }
   ],
   "source": [
    "word2vec100d = word2vec.initializeWord2Vec(np.concatenate((padded_sequences_train, padded_sequences_test), axis=0).tolist())\n",
    "print(\"Embedding Matrix (100):\\n\", word2vec100d[:2], \"\\n\")"
   ]
  },
  {
   "cell_type": "markdown",
   "id": "054ed1a6",
   "metadata": {},
   "source": [
    "# Model Glove"
   ]
  },
  {
   "cell_type": "code",
   "execution_count": 100,
   "id": "b453ad7b",
   "metadata": {},
   "outputs": [
    {
     "name": "stdout",
     "output_type": "stream",
     "text": [
      "Embedding Matrix (100d):\n",
      " [[-0.038194   -0.24487001  0.72812003 -0.39961001  0.083172    0.043953\n",
      "  -0.39140999  0.3344     -0.57545     0.087459    0.28786999 -0.06731\n",
      "   0.30906001 -0.26383999 -0.13231    -0.20757     0.33395001 -0.33848\n",
      "  -0.31742999 -0.48335999  0.1464     -0.37303999  0.34577     0.052041\n",
      "   0.44946    -0.46970999  0.02628    -0.54154998 -0.15518001 -0.14106999\n",
      "  -0.039722    0.28277001  0.14393     0.23464    -0.31020999  0.086173\n",
      "   0.20397     0.52623999  0.17163999 -0.082378   -0.71787    -0.41531\n",
      "   0.20334999 -0.12763     0.41367     0.55186999  0.57907999 -0.33476999\n",
      "  -0.36559001 -0.54856998 -0.062892    0.26583999  0.30204999  0.99774998\n",
      "  -0.80480999 -3.0243001   0.01254    -0.36941999  2.21670008  0.72201002\n",
      "  -0.24978     0.92136002  0.034514    0.46744999  1.10790002 -0.19358\n",
      "  -0.074575    0.23353    -0.052062   -0.22044     0.057162   -0.15806\n",
      "  -0.30798    -0.41624999  0.37972     0.15006    -0.53211999 -0.20550001\n",
      "  -1.25259995  0.071624    0.70564997  0.49744001 -0.42063001  0.26148\n",
      "  -1.53799999 -0.30223    -0.073438   -0.28312001  0.37103999 -0.25217\n",
      "   0.016215   -0.017099   -0.38984001  0.87423998 -0.72569001 -0.51058\n",
      "  -0.52028    -0.1459      0.82779998  0.27061999]\n",
      " [-0.10767     0.11053     0.59811997 -0.54360998  0.67395997  0.10663\n",
      "   0.038867    0.35481     0.06351    -0.094189    0.15786    -0.81664997\n",
      "   0.14172     0.21939     0.58504999 -0.52157998  0.22782999 -0.16642\n",
      "  -0.68228     0.35870001  0.42568001  0.19021     0.91962999  0.57555002\n",
      "   0.46184999  0.42363    -0.095399   -0.42749    -0.16566999 -0.056842\n",
      "  -0.29595     0.26036999 -0.26605999 -0.070404   -0.27662     0.15820999\n",
      "   0.69825     0.43081     0.27952    -0.45436999 -0.33801001 -0.58183998\n",
      "   0.22363999 -0.57779998 -0.26862001 -0.20424999  0.56393999 -0.58524001\n",
      "  -0.14365    -0.64218003  0.0054697  -0.35247999  0.16162001  1.1796\n",
      "  -0.47674    -2.75530005 -0.1321     -0.047729    1.06550002  1.10339999\n",
      "  -0.2208      0.18669     0.13177     0.15117     0.71310002 -0.35214999\n",
      "   0.91347998  0.61782998  0.70991999  0.23954999 -0.14571001 -0.37858999\n",
      "  -0.045959   -0.47367999  0.2385      0.20536    -0.18996     0.32506999\n",
      "  -1.11119998 -0.36341     0.98679    -0.084776   -0.54008001  0.11726\n",
      "  -1.0194     -0.24424     0.12771     0.013884    0.080374   -0.35414001\n",
      "   0.34951001 -0.72259998  0.37549001  0.44409999 -0.99058998  0.61214\n",
      "  -0.35111001 -0.83155     0.45293     0.082577  ]\n",
      " [-0.33978999  0.20941     0.46348    -0.64792001 -0.38376999  0.038034\n",
      "   0.17127     0.15978     0.46619001 -0.019169    0.41479    -0.34349\n",
      "   0.26872     0.04464     0.42131001 -0.41032001  0.15459     0.022239\n",
      "  -0.64652997  0.25255999  0.043136   -0.19445001  0.46516001  0.45651001\n",
      "   0.68588001  0.091295    0.21875    -0.70350999  0.16785    -0.35078999\n",
      "  -0.12634     0.66384    -0.25819999  0.036542   -0.13605     0.40253001\n",
      "   0.14289001  0.38132    -0.12283    -0.45886001 -0.25281999 -0.30432001\n",
      "  -0.11215    -0.26181999 -0.22482    -0.44554001  0.29910001 -0.85611999\n",
      "  -0.14503001 -0.49085999  0.0082973  -0.17490999  0.27524     1.44009995\n",
      "  -0.21239001 -2.8434999  -0.27958    -0.45721999  1.63859999  0.78807998\n",
      "  -0.55261999  0.64999998  0.086426    0.39012     1.0632     -0.35378999\n",
      "   0.48328     0.34599999  0.84174001  0.098707   -0.24213    -0.27052999\n",
      "   0.045287   -0.40147001  0.11395     0.0062226   0.036673    0.018518\n",
      "  -1.02129996 -0.20806     0.64072001 -0.068763   -0.58635002  0.33476001\n",
      "  -1.14320004 -0.1148     -0.25091001 -0.45907    -0.096819   -0.17946\n",
      "  -0.063351   -0.67412001 -0.068895    0.53604001 -0.87773001  0.31801999\n",
      "  -0.39241999 -0.23394001  0.47297999 -0.028803  ]] \n",
      "\n"
     ]
    }
   ],
   "source": [
    "glove100d = glove.create_word_vectors_matrix('glove.6B.100d.txt')\n",
    "print(\"Embedding Matrix (100d):\\n\", glove100d[:3], \"\\n\")"
   ]
  },
  {
   "cell_type": "markdown",
   "id": "9a58871d",
   "metadata": {},
   "source": [
    "# Model FastText"
   ]
  },
  {
   "cell_type": "code",
   "execution_count": 30,
   "id": "a2755ddb",
   "metadata": {},
   "outputs": [
    {
     "name": "stdout",
     "output_type": "stream",
     "text": [
      "Embedding Matrix (100):\n",
      " [[ 2.70703793e-01  3.65337300e+00  1.73306274e+00 -9.92918205e+00\n",
      "   1.21181715e+00 -3.54668570e+00 -2.64408588e+00  6.90593243e+00\n",
      "  -5.45327330e+00  4.18559492e-01  6.72774911e-01 -6.13834858e+00\n",
      "   2.38351256e-01 -8.46255898e-01  2.41523075e+00  9.15833473e+00\n",
      "   1.13784418e+01 -2.26166224e+00  3.03722620e+00 -1.78808937e+01\n",
      "  -5.36878109e+00 -4.55047798e+00  5.87045145e+00 -2.02481461e+00\n",
      "   3.80369377e+00  5.52437186e-01 -3.33232832e+00  3.93053341e+00\n",
      "   1.26100528e+00 -2.77763653e+00 -2.56160021e-01  1.28988877e-01\n",
      "   1.09093666e+01 -5.70541191e+00 -4.94446278e-01  1.31919336e+00\n",
      "   1.46754742e+00  1.43843091e+00  1.63496470e+00 -1.99527669e+00\n",
      "  -1.79342437e+00  3.96264601e+00 -3.64738512e+00  6.49212956e-01\n",
      "  -4.04806793e-01  1.39634418e+00 -7.13812828e-01 -1.88902009e+00\n",
      "   3.39642668e+00  1.34106121e+01 -8.66071510e+00  1.10472620e+00\n",
      "   9.31713104e-01  6.18662357e-01  1.41672921e+00 -1.78742099e+00\n",
      "   5.02287483e+00  3.45861101e+00  1.13843560e+00  2.64313602e+00\n",
      "  -3.37460613e+00  1.37252426e+00  6.18958116e-01  5.36223769e-01\n",
      "  -1.53212857e+00  4.27334023e+00 -5.34783268e+00 -1.87720776e+00\n",
      "   1.87273335e+00  8.35888267e-01  1.14656138e+00 -4.52925265e-01\n",
      "   1.79605579e+00 -5.28435087e+00  1.07489765e+00 -6.64929748e-02\n",
      "   1.33492315e+00 -1.26259220e+00 -2.32668400e+00 -1.90433741e+00\n",
      "   3.50225019e+00  3.67563391e+00  1.61634874e+00  4.53383732e+00\n",
      "   2.73356080e+00  1.05302945e-01  1.38571811e+00 -2.71130037e+00\n",
      "   3.12923050e+00  1.24705052e+00 -3.44840325e-02 -5.25096774e-01\n",
      "   4.25111198e+00 -2.92288399e+00 -4.04923499e-01 -6.47285163e-01\n",
      "  -1.49370760e-01  1.04838681e+00  4.09568024e+00  7.52855492e+00]\n",
      " [-1.30342674e+00 -1.52898192e+00  1.51103497e+00  2.24820757e+00\n",
      "   1.08479738e+00  2.35563666e-01  1.78853822e+00  5.16740620e-01\n",
      "   1.15062690e+00  1.71675712e-01  2.78206348e+00  2.12039995e+00\n",
      "  -9.88101244e-01 -8.58847022e-01 -1.37953496e+00 -4.16651666e-01\n",
      "   1.08969843e+00  1.76945150e+00 -2.41865969e+00 -1.51146716e-02\n",
      "   1.34225345e+00  1.37714016e+00 -1.34101105e+00 -6.31168842e-01\n",
      "   1.42738390e+00 -1.44802618e+00  1.05409741e+00 -8.48282278e-01\n",
      "  -5.77755868e-01  2.64649510e-01  1.14974856e+00 -4.19415116e-01\n",
      "  -9.27386761e-01  6.71482980e-01  1.88402379e+00 -1.28654611e+00\n",
      "  -7.02312469e-01 -9.49064255e-01  2.37147331e+00 -9.11295295e-01\n",
      "   2.96832824e+00 -1.38134074e+00 -6.85081601e-01  1.85708523e-01\n",
      "   9.23559964e-01 -5.06328821e-01  1.02015150e+00 -1.10852778e-01\n",
      "  -4.41539586e-01 -1.22875571e+00  1.78485477e+00 -2.43772101e+00\n",
      "   4.17561054e-01  4.15510297e-01 -2.58170247e-01 -1.75661612e+00\n",
      "   2.42473334e-01 -3.72711271e-01  7.09056020e-01 -7.54946828e-01\n",
      "   2.69405663e-01 -1.51835799e+00 -2.03716373e+00 -1.89075756e+00\n",
      "  -1.03632025e-02 -9.40366626e-01 -1.21896553e+00 -2.10915017e+00\n",
      "   5.95230818e-01  1.21731365e+00 -4.51051623e-01 -1.14210951e+00\n",
      "   1.19523332e-01  1.37971127e+00  4.84237760e-01 -3.78598511e-01\n",
      "  -1.41561890e+00  8.63283157e-01 -7.63131976e-01  1.45307612e+00\n",
      "  -3.04898453e+00 -1.25365686e+00  1.04691565e+00 -3.55212998e+00\n",
      "   1.03540480e+00  1.19645023e+00 -1.42322755e+00 -5.84643111e-02\n",
      "  -3.01117992e+00 -7.05182433e-01  1.94229913e+00 -4.69618440e-01\n",
      "   9.90453362e-01 -4.85016704e-01  8.56537700e-01  2.05661488e+00\n",
      "   1.55985057e+00  2.14860296e+00 -4.51153755e-01 -2.00510740e+00]\n",
      " [-2.42328382e+00  2.14495182e-01  3.07245207e+00 -4.24903333e-01\n",
      "  -4.41133213e+00  3.44313455e+00  1.21271229e+00 -1.35515973e-01\n",
      "   5.98385096e-01  3.25316572e+00 -4.79460001e-01  3.52326536e+00\n",
      "   1.20886707e+00 -2.17630553e+00  1.58202350e+00 -6.20843983e+00\n",
      "   5.15614986e-01 -1.42081761e+00 -5.53368807e-01  2.92241335e+00\n",
      "  -3.63643074e+00  6.43915012e-02 -6.51890564e+00 -9.57797289e-01\n",
      "   2.03632784e+00 -2.37124443e+00  1.64226484e+00 -2.39149904e+00\n",
      "   1.19710004e+00 -1.81097293e+00 -3.90359521e+00 -1.89452004e+00\n",
      "  -3.58830750e-01  8.90568018e-01 -7.12712035e-02 -4.00093049e-01\n",
      "   3.83169770e-01  2.38196206e+00  3.53216696e+00  1.58735752e+00\n",
      "  -1.26839757e+00  7.74387956e-01  5.36703169e-01  2.21849060e+00\n",
      "   3.70603275e+00 -1.46839356e+00  1.92532468e+00  8.34227085e-01\n",
      "  -1.43786740e+00 -3.64210233e-02  1.44239783e+00 -1.37280738e+00\n",
      "   3.04510212e+00  1.01116955e-01 -5.62087059e+00 -4.26790416e-01\n",
      "  -6.83411658e-01 -1.50167704e+00 -3.10186148e+00 -5.83237886e-01\n",
      "   5.01854229e+00  1.98576570e-01  8.95164609e-01  1.49668670e+00\n",
      "  -3.04205298e-01  1.19437695e-01  9.24227059e-01  5.74263048e+00\n",
      "   9.83789086e-01  6.69910431e-01  1.18937325e+00  3.21010649e-02\n",
      "  -4.74306159e-02 -1.44585943e+00  1.20024180e+00  1.82530701e+00\n",
      "  -1.92173147e+00  2.96441317e+00  1.18095875e+00 -4.69937474e-01\n",
      "   2.00508022e+00 -2.16631365e+00 -3.51973152e+00 -1.64434075e+00\n",
      "   2.16980767e+00 -3.33263397e+00 -3.80588245e+00 -1.31597912e+00\n",
      "  -2.48914152e-01  4.84352231e-01 -3.32821798e+00  9.59472656e-01\n",
      "   1.21493459e+00 -1.63622975e+00  2.38029861e+00  1.61991620e+00\n",
      "  -2.40475583e+00  1.72649407e+00  7.08877563e-01 -1.03497887e+00]] \n",
      "\n"
     ]
    }
   ],
   "source": [
    "fastText100d = fasttext.initializeFastText(np.concatenate((padded_sequences_train3, padded_sequences_test3), axis=0).tolist())\n",
    "print(\"Embedding Matrix (100):\\n\", fastText100d[:3], \"\\n\")"
   ]
  },
  {
   "cell_type": "markdown",
   "id": "2fe50465",
   "metadata": {},
   "source": [
    "# Word2vec"
   ]
  },
  {
   "cell_type": "code",
   "execution_count": 96,
   "id": "8a977d4c",
   "metadata": {},
   "outputs": [
    {
     "name": "stdout",
     "output_type": "stream",
     "text": [
      "=================================================================\n",
      "\n",
      "                           MODEL SUMMARY\n",
      "\n",
      "=================================================================\n",
      "\n",
      "Model: \"sequential_1\"\n",
      "_________________________________________________________________\n",
      " Layer (type)                Output Shape              Param #   \n",
      "=================================================================\n",
      " embedding_1 (Embedding)     (None, 335, 100)          3421700   \n",
      "                                                                 \n",
      " lstm_1 (LSTM)               (None, 64)                42240     \n",
      "                                                                 \n",
      " dense_1 (Dense)             (None, 1)                 65        \n",
      "                                                                 \n",
      "=================================================================\n",
      "Total params: 3464005 (13.21 MB)\n",
      "Trainable params: 42305 (165.25 KB)\n",
      "Non-trainable params: 3421700 (13.05 MB)\n",
      "_________________________________________________________________\n"
     ]
    }
   ],
   "source": [
    "model = generate_model.createModel(100, word2vec100d)"
   ]
  },
  {
   "cell_type": "code",
   "execution_count": 97,
   "id": "077cccb1",
   "metadata": {},
   "outputs": [
    {
     "name": "stdout",
     "output_type": "stream",
     "text": [
      "Epoch 1/30\n",
      "30/30 [==============================] - 25s 728ms/step - loss: 0.4889 - accuracy: 0.7540 - val_loss: 0.2871 - val_accuracy: 0.8951\n",
      "Epoch 2/30\n",
      "30/30 [==============================] - 20s 663ms/step - loss: 0.2680 - accuracy: 0.8973 - val_loss: 0.2509 - val_accuracy: 0.9171\n",
      "Epoch 3/30\n",
      "30/30 [==============================] - 20s 671ms/step - loss: 0.2017 - accuracy: 0.9346 - val_loss: 0.2752 - val_accuracy: 0.9171\n",
      "Epoch 4/30\n",
      "30/30 [==============================] - 21s 699ms/step - loss: 0.2406 - accuracy: 0.8863 - val_loss: 0.2081 - val_accuracy: 0.8961\n",
      "Epoch 5/30\n",
      "30/30 [==============================] - 19s 639ms/step - loss: 0.1973 - accuracy: 0.9425 - val_loss: 0.1002 - val_accuracy: 0.9769\n",
      "Epoch 6/30\n",
      "30/30 [==============================] - 19s 635ms/step - loss: 0.2930 - accuracy: 0.8934 - val_loss: 0.4020 - val_accuracy: 0.8384\n",
      "Epoch 7/30\n",
      "30/30 [==============================] - 18s 591ms/step - loss: 0.3320 - accuracy: 0.8669 - val_loss: 0.2513 - val_accuracy: 0.9161\n",
      "Epoch 8/30\n",
      "30/30 [==============================] - 18s 591ms/step - loss: 0.2334 - accuracy: 0.9163 - val_loss: 0.1452 - val_accuracy: 0.9528\n",
      "Epoch 9/30\n",
      "30/30 [==============================] - 18s 594ms/step - loss: 0.1411 - accuracy: 0.9596 - val_loss: 0.1030 - val_accuracy: 0.9738\n",
      "Epoch 10/30\n",
      "30/30 [==============================] - 18s 596ms/step - loss: 0.1177 - accuracy: 0.9667 - val_loss: 0.1190 - val_accuracy: 0.9717\n",
      "Epoch 11/30\n",
      "30/30 [==============================] - 18s 597ms/step - loss: 0.1146 - accuracy: 0.9698 - val_loss: 0.0869 - val_accuracy: 0.9769\n",
      "Epoch 12/30\n",
      "30/30 [==============================] - 19s 622ms/step - loss: 0.1040 - accuracy: 0.9716 - val_loss: 0.0861 - val_accuracy: 0.9801\n",
      "Epoch 13/30\n",
      "30/30 [==============================] - 18s 604ms/step - loss: 0.0859 - accuracy: 0.9756 - val_loss: 0.0845 - val_accuracy: 0.9811\n",
      "Epoch 14/30\n",
      "30/30 [==============================] - 20s 670ms/step - loss: 0.0989 - accuracy: 0.9695 - val_loss: 0.1148 - val_accuracy: 0.9570\n",
      "Epoch 15/30\n",
      "30/30 [==============================] - 19s 631ms/step - loss: 0.0968 - accuracy: 0.9732 - val_loss: 0.0844 - val_accuracy: 0.9801\n",
      "Epoch 16/30\n",
      "30/30 [==============================] - 18s 595ms/step - loss: 0.0695 - accuracy: 0.9798 - val_loss: 0.0979 - val_accuracy: 0.9769\n",
      "Epoch 17/30\n",
      "30/30 [==============================] - 19s 628ms/step - loss: 0.0647 - accuracy: 0.9827 - val_loss: 0.0798 - val_accuracy: 0.9811\n",
      "Epoch 18/30\n",
      "30/30 [==============================] - 18s 603ms/step - loss: 0.0639 - accuracy: 0.9824 - val_loss: 0.0838 - val_accuracy: 0.9801\n",
      "Epoch 19/30\n",
      "30/30 [==============================] - 18s 597ms/step - loss: 0.0564 - accuracy: 0.9853 - val_loss: 0.0572 - val_accuracy: 0.9864\n",
      "Epoch 20/30\n",
      "30/30 [==============================] - 18s 596ms/step - loss: 0.0570 - accuracy: 0.9840 - val_loss: 0.0661 - val_accuracy: 0.9832\n",
      "Epoch 21/30\n",
      "30/30 [==============================] - 18s 596ms/step - loss: 0.0602 - accuracy: 0.9832 - val_loss: 0.0619 - val_accuracy: 0.9843\n",
      "Epoch 22/30\n",
      "30/30 [==============================] - 19s 652ms/step - loss: 0.0528 - accuracy: 0.9853 - val_loss: 0.0805 - val_accuracy: 0.9727\n",
      "Epoch 23/30\n",
      "30/30 [==============================] - 19s 638ms/step - loss: 0.0590 - accuracy: 0.9764 - val_loss: 0.0664 - val_accuracy: 0.9811\n",
      "Epoch 24/30\n",
      "30/30 [==============================] - 18s 596ms/step - loss: 0.0572 - accuracy: 0.9814 - val_loss: 0.0862 - val_accuracy: 0.9759\n",
      "Epoch 25/30\n",
      "30/30 [==============================] - 18s 598ms/step - loss: 0.1513 - accuracy: 0.9470 - val_loss: 0.0852 - val_accuracy: 0.9801\n",
      "Epoch 26/30\n",
      "30/30 [==============================] - 18s 597ms/step - loss: 0.0932 - accuracy: 0.9740 - val_loss: 0.0614 - val_accuracy: 0.9853\n",
      "Epoch 27/30\n",
      "30/30 [==============================] - 19s 631ms/step - loss: 0.0615 - accuracy: 0.9848 - val_loss: 0.0662 - val_accuracy: 0.9864\n",
      "Epoch 28/30\n",
      "30/30 [==============================] - 18s 596ms/step - loss: 0.0584 - accuracy: 0.9837 - val_loss: 0.1180 - val_accuracy: 0.9664\n",
      "Epoch 29/30\n",
      "30/30 [==============================] - 18s 594ms/step - loss: 0.0663 - accuracy: 0.9814 - val_loss: 0.0649 - val_accuracy: 0.9811\n",
      "Epoch 30/30\n",
      "30/30 [==============================] - 18s 612ms/step - loss: 0.0574 - accuracy: 0.9835 - val_loss: 0.0917 - val_accuracy: 0.9612\n"
     ]
    }
   ],
   "source": [
    "lstm = model.fit(padded_sequences_train, Y_train, validation_data=(padded_sequences_test, Y_test), epochs = 30, batch_size=128 )"
   ]
  },
  {
   "cell_type": "code",
   "execution_count": 98,
   "id": "baca4630",
   "metadata": {},
   "outputs": [
    {
     "name": "stdout",
     "output_type": "stream",
     "text": [
      "=================================================================\n",
      "\n",
      "                        PLOT ACCURACY MODEL\n",
      "\n",
      "=================================================================\n",
      "\n"
     ]
    },
    {
     "data": {
      "image/png": "[encoded data removed]",
      "text/plain": [
       "<Figure size 432x288 with 1 Axes>"
      ]
     },
     "metadata": {
      "needs_background": "light"
     },
     "output_type": "display_data"
    }
   ],
   "source": [
    "# create plot accuracy & val accuracy\n",
    "generate_model.showPlotAccuracyModel(lstm)"
   ]
  },
  {
   "cell_type": "code",
   "execution_count": 99,
   "id": "705f305b",
   "metadata": {},
   "outputs": [
    {
     "name": "stdout",
     "output_type": "stream",
     "text": [
      "=================================================================\n",
      "\n",
      "                          PLOT LOSS MODEL\n",
      "\n",
      "=================================================================\n",
      "\n"
     ]
    },
    {
     "data": {
      "image/png": "[encoded data removed]",
      "text/plain": [
       "<Figure size 432x288 with 1 Axes>"
      ]
     },
     "metadata": {
      "needs_background": "light"
     },
     "output_type": "display_data"
    }
   ],
   "source": [
    "# create plot loss & val loss\n",
    "generate_model.showPlotLossModel(lstm)"
   ]
  },
  {
   "cell_type": "code",
   "execution_count": 100,
   "id": "d2bbad78",
   "metadata": {},
   "outputs": [
    {
     "name": "stdout",
     "output_type": "stream",
     "text": [
      "=================================================================\n",
      "\n",
      "                      CLASSIFICATION REPORT\n",
      "\n",
      "=================================================================\n",
      "\n",
      "30/30 [==============================] - 3s 82ms/step\n",
      "Accuracy:  0.9611752360965372\n",
      "              precision    recall  f1-score   support\n",
      "\n",
      "        hoax       1.00      0.93      0.96       469\n",
      "       valid       0.93      1.00      0.96       484\n",
      "\n",
      "    accuracy                           0.96       953\n",
      "   macro avg       0.96      0.96      0.96       953\n",
      "weighted avg       0.96      0.96      0.96       953\n",
      "\n"
     ]
    }
   ],
   "source": [
    "# create classification report\n",
    "predictions = generate_model.createPredictionClassificationReport(model, padded_sequences_test, Y_test)"
   ]
  },
  {
   "cell_type": "code",
   "execution_count": 101,
   "id": "b08e1581",
   "metadata": {},
   "outputs": [],
   "source": [
    "# Konversi array NumPy menjadi DataFrame\n",
    "y_test_pred = pd.DataFrame(predictions)\n",
    "\n",
    "# Simpan DataFrame ke file Excel\n",
    "y_test_pred.to_excel('predictions.xlsx', header=False, index=False)"
   ]
  },
  {
   "cell_type": "code",
   "execution_count": 102,
   "id": "7ab1218f",
   "metadata": {},
   "outputs": [
    {
     "name": "stdout",
     "output_type": "stream",
     "text": [
      "=================================================================\n",
      "\n",
      "                         EVALUATE MODEL\n",
      "\n",
      "=================================================================\n",
      "\n",
      "30/30 [==============================] - 3s 83ms/step - loss: 0.0917 - accuracy: 0.9612\n",
      "Accuracy :  0.961175262928009 \n",
      "\n",
      "Loss :  0.09174048900604248 \n",
      "\n"
     ]
    }
   ],
   "source": [
    "# show evaluate model (loss & accuracy)\n",
    "generate_model.showEvaluateModel(model, padded_sequences_test, Y_test)"
   ]
  },
  {
   "cell_type": "code",
   "execution_count": 103,
   "id": "353e462b",
   "metadata": {},
   "outputs": [
    {
     "name": "stdout",
     "output_type": "stream",
     "text": [
      "=================================================================\n",
      "\n",
      "                       CONFUSION MATRIX\n",
      "\n",
      "=================================================================\n",
      "\n"
     ]
    },
    {
     "data": {
      "image/png": "[encoded data removed]",
      "text/plain": [
       "<Figure size 432x288 with 2 Axes>"
      ]
     },
     "metadata": {
      "needs_background": "light"
     },
     "output_type": "display_data"
    }
   ],
   "source": [
    "# show confusion matrix\n",
    "df_cm = generate_model.showConfusionMatrix(Y_test, predictions)"
   ]
  },
  {
   "cell_type": "code",
   "execution_count": 104,
   "id": "0444ccf7",
   "metadata": {},
   "outputs": [
    {
     "name": "stdout",
     "output_type": "stream",
     "text": [
      "=================================================================\n",
      "\n",
      "                       ACCURACY EACH CLASS\n",
      "\n",
      "=================================================================\n",
      "\n",
      "Accuracy Valid:  0.9611752360965372\n",
      "Accuracy Hoax:  0.9611752360965372\n"
     ]
    }
   ],
   "source": [
    "generate_model.showAccuracyEachClass(df_cm)"
   ]
  },
  {
   "cell_type": "code",
   "execution_count": 105,
   "id": "c999f130",
   "metadata": {},
   "outputs": [],
   "source": [
    "# generate_model.saveModel(model, 125)"
   ]
  },
  {
   "cell_type": "code",
   "execution_count": 106,
   "id": "8ffae66b",
   "metadata": {},
   "outputs": [
    {
     "name": "stdout",
     "output_type": "stream",
     "text": [
      "Model: \"sequential\"\n",
      "_________________________________________________________________\n",
      " Layer (type)                Output Shape              Param #   \n",
      "=================================================================\n",
      " embedding (Embedding)       (None, 335, 100)          3421700   \n",
      "                                                                 \n",
      " lstm (LSTM)                 (None, 64)                42240     \n",
      "                                                                 \n",
      " dense (Dense)               (None, 1)                 65        \n",
      "                                                                 \n",
      "=================================================================\n",
      "Total params: 3464005 (13.21 MB)\n",
      "Trainable params: 42305 (165.25 KB)\n",
      "Non-trainable params: 3421700 (13.05 MB)\n",
      "_________________________________________________________________\n"
     ]
    }
   ],
   "source": [
    "loaded_model = generate_model.loadModel(125)\n",
    "loaded_model.summary()"
   ]
  },
  {
   "cell_type": "markdown",
   "id": "7e9b31ee",
   "metadata": {},
   "source": [
    "# Glove "
   ]
  },
  {
   "cell_type": "code",
   "execution_count": 31,
   "id": "9022fbf2",
   "metadata": {},
   "outputs": [
    {
     "name": "stdout",
     "output_type": "stream",
     "text": [
      "=================================================================\n",
      "\n",
      "                           MODEL SUMMARY\n",
      "\n",
      "=================================================================\n",
      "\n",
      "Model: \"sequential_1\"\n",
      "_________________________________________________________________\n",
      " Layer (type)                Output Shape              Param #   \n",
      "=================================================================\n",
      " embedding_1 (Embedding)     (None, 335, 100)          40000000  \n",
      "                                                                 \n",
      " lstm_1 (LSTM)               (None, 64)                42240     \n",
      "                                                                 \n",
      " dense_1 (Dense)             (None, 1)                 65        \n",
      "                                                                 \n",
      "=================================================================\n",
      "Total params: 40042305 (152.75 MB)\n",
      "Trainable params: 42305 (165.25 KB)\n",
      "Non-trainable params: 40000000 (152.59 MB)\n",
      "_________________________________________________________________\n"
     ]
    }
   ],
   "source": [
    "model = generate_model.createModel(100, glove100d)"
   ]
  },
  {
   "cell_type": "code",
   "execution_count": 32,
   "id": "277c109f",
   "metadata": {},
   "outputs": [
    {
     "name": "stdout",
     "output_type": "stream",
     "text": [
      "Epoch 1/30\n",
      "30/30 [==============================] - 21s 605ms/step - loss: 0.8338 - accuracy: 0.5062 - val_loss: 0.6872 - val_accuracy: 0.5656\n",
      "Epoch 2/30\n",
      "30/30 [==============================] - 16s 551ms/step - loss: 0.6804 - accuracy: 0.5731 - val_loss: 0.6817 - val_accuracy: 0.5708\n",
      "Epoch 3/30\n",
      "30/30 [==============================] - 17s 574ms/step - loss: 0.6673 - accuracy: 0.5954 - val_loss: 0.6906 - val_accuracy: 0.5656\n",
      "Epoch 4/30\n",
      "30/30 [==============================] - 17s 566ms/step - loss: 0.6435 - accuracy: 0.6277 - val_loss: 0.7168 - val_accuracy: 0.5614\n",
      "Epoch 5/30\n",
      "30/30 [==============================] - 18s 598ms/step - loss: 0.6187 - accuracy: 0.6524 - val_loss: 0.7375 - val_accuracy: 0.5519\n",
      "Epoch 6/30\n",
      "30/30 [==============================] - 17s 577ms/step - loss: 0.5856 - accuracy: 0.6876 - val_loss: 0.7342 - val_accuracy: 0.5729\n",
      "Epoch 7/30\n",
      "30/30 [==============================] - 18s 595ms/step - loss: 0.5634 - accuracy: 0.6949 - val_loss: 0.7785 - val_accuracy: 0.5540\n",
      "Epoch 8/30\n",
      "30/30 [==============================] - 18s 605ms/step - loss: 0.5299 - accuracy: 0.7254 - val_loss: 0.8133 - val_accuracy: 0.5677\n",
      "Epoch 9/30\n",
      "30/30 [==============================] - 18s 606ms/step - loss: 0.5193 - accuracy: 0.7359 - val_loss: 0.8055 - val_accuracy: 0.5855\n",
      "Epoch 10/30\n",
      "30/30 [==============================] - 18s 584ms/step - loss: 0.4875 - accuracy: 0.7548 - val_loss: 0.8402 - val_accuracy: 0.5782\n",
      "Epoch 11/30\n",
      "30/30 [==============================] - 18s 610ms/step - loss: 0.4630 - accuracy: 0.7674 - val_loss: 0.8886 - val_accuracy: 0.5708\n",
      "Epoch 12/30\n",
      "30/30 [==============================] - 20s 652ms/step - loss: 0.4478 - accuracy: 0.7779 - val_loss: 0.9191 - val_accuracy: 0.5792\n",
      "Epoch 13/30\n",
      "30/30 [==============================] - 25s 830ms/step - loss: 0.4376 - accuracy: 0.7897 - val_loss: 0.9620 - val_accuracy: 0.5792\n",
      "Epoch 14/30\n",
      "30/30 [==============================] - 24s 799ms/step - loss: 0.4267 - accuracy: 0.7934 - val_loss: 0.9885 - val_accuracy: 0.5729\n",
      "Epoch 15/30\n",
      "30/30 [==============================] - 24s 801ms/step - loss: 0.4370 - accuracy: 0.7894 - val_loss: 0.9724 - val_accuracy: 0.5771\n",
      "Epoch 16/30\n",
      "30/30 [==============================] - 24s 794ms/step - loss: 0.4079 - accuracy: 0.8102 - val_loss: 1.0142 - val_accuracy: 0.5761\n",
      "Epoch 17/30\n",
      "30/30 [==============================] - 24s 813ms/step - loss: 0.4139 - accuracy: 0.8010 - val_loss: 1.0740 - val_accuracy: 0.5771\n",
      "Epoch 18/30\n",
      "30/30 [==============================] - 21s 695ms/step - loss: 0.4343 - accuracy: 0.7939 - val_loss: 1.0016 - val_accuracy: 0.5803\n",
      "Epoch 19/30\n",
      "30/30 [==============================] - 25s 846ms/step - loss: 0.4215 - accuracy: 0.7963 - val_loss: 1.0408 - val_accuracy: 0.5635\n",
      "Epoch 20/30\n",
      "30/30 [==============================] - 21s 705ms/step - loss: 0.3965 - accuracy: 0.8133 - val_loss: 1.0596 - val_accuracy: 0.5782\n",
      "Epoch 21/30\n",
      "30/30 [==============================] - 18s 603ms/step - loss: 0.3992 - accuracy: 0.8141 - val_loss: 1.1277 - val_accuracy: 0.5572\n",
      "Epoch 22/30\n",
      "30/30 [==============================] - 19s 650ms/step - loss: 0.4349 - accuracy: 0.7955 - val_loss: 1.0721 - val_accuracy: 0.5582\n",
      "Epoch 23/30\n",
      "30/30 [==============================] - 26s 880ms/step - loss: 0.4161 - accuracy: 0.7999 - val_loss: 1.0076 - val_accuracy: 0.5761\n",
      "Epoch 24/30\n",
      "30/30 [==============================] - 25s 850ms/step - loss: 0.4198 - accuracy: 0.7997 - val_loss: 1.0163 - val_accuracy: 0.5918\n",
      "Epoch 25/30\n",
      "30/30 [==============================] - 25s 833ms/step - loss: 0.4111 - accuracy: 0.8070 - val_loss: 1.0502 - val_accuracy: 0.5813\n",
      "Epoch 26/30\n",
      "30/30 [==============================] - 24s 815ms/step - loss: 0.3913 - accuracy: 0.8141 - val_loss: 1.0264 - val_accuracy: 0.6128\n",
      "Epoch 27/30\n",
      "30/30 [==============================] - 23s 784ms/step - loss: 0.3182 - accuracy: 0.8619 - val_loss: 0.9145 - val_accuracy: 0.6674\n",
      "Epoch 28/30\n",
      "30/30 [==============================] - 22s 735ms/step - loss: 0.2727 - accuracy: 0.8876 - val_loss: 0.8558 - val_accuracy: 0.6768\n",
      "Epoch 29/30\n",
      "30/30 [==============================] - 21s 722ms/step - loss: 0.2487 - accuracy: 0.9023 - val_loss: 0.8625 - val_accuracy: 0.7030\n",
      "Epoch 30/30\n",
      "30/30 [==============================] - 23s 779ms/step - loss: 0.2335 - accuracy: 0.9042 - val_loss: 0.8966 - val_accuracy: 0.6936\n"
     ]
    }
   ],
   "source": [
    "lstm = model.fit(padded_sequences_train, Y_train, validation_data=(padded_sequences_test2, Y_test), epochs = 30, batch_size=128)"
   ]
  },
  {
   "cell_type": "code",
   "execution_count": 33,
   "id": "bd470dde",
   "metadata": {},
   "outputs": [
    {
     "name": "stdout",
     "output_type": "stream",
     "text": [
      "=================================================================\n",
      "\n",
      "                        PLOT ACCURACY MODEL\n",
      "\n",
      "=================================================================\n",
      "\n"
     ]
    },
    {
     "data": {
      "image/png": "[encoded data removed]",
      "text/plain": [
       "<Figure size 432x288 with 1 Axes>"
      ]
     },
     "metadata": {
      "needs_background": "light"
     },
     "output_type": "display_data"
    }
   ],
   "source": [
    "# create plot accuracy & val accuracy\n",
    "generate_model.showPlotAccuracyModel(lstm)"
   ]
  },
  {
   "cell_type": "code",
   "execution_count": 34,
   "id": "e1f79815",
   "metadata": {},
   "outputs": [
    {
     "name": "stdout",
     "output_type": "stream",
     "text": [
      "=================================================================\n",
      "\n",
      "                          PLOT LOSS MODEL\n",
      "\n",
      "=================================================================\n",
      "\n"
     ]
    },
    {
     "data": {
      "image/png": "[encoded data removed]",
      "text/plain": [
       "<Figure size 432x288 with 1 Axes>"
      ]
     },
     "metadata": {
      "needs_background": "light"
     },
     "output_type": "display_data"
    }
   ],
   "source": [
    "# create plot loss & val loss\n",
    "generate_model.showPlotLossModel(lstm)"
   ]
  },
  {
   "cell_type": "code",
   "execution_count": 35,
   "id": "8fd096bb",
   "metadata": {},
   "outputs": [
    {
     "name": "stdout",
     "output_type": "stream",
     "text": [
      "=================================================================\n",
      "\n",
      "                      CLASSIFICATION REPORT\n",
      "\n",
      "=================================================================\n",
      "\n",
      "30/30 [==============================] - 4s 119ms/step\n",
      "Accuracy:  0.6935991605456453\n",
      "              precision    recall  f1-score   support\n",
      "\n",
      "        hoax       0.66      0.78      0.71       469\n",
      "       valid       0.74      0.61      0.67       484\n",
      "\n",
      "    accuracy                           0.69       953\n",
      "   macro avg       0.70      0.69      0.69       953\n",
      "weighted avg       0.70      0.69      0.69       953\n",
      "\n"
     ]
    }
   ],
   "source": [
    "# create classification report\n",
    "predictions = generate_model.createPredictionClassificationReport(model, padded_sequences_test2, Y_test)"
   ]
  },
  {
   "cell_type": "code",
   "execution_count": 36,
   "id": "f368def5",
   "metadata": {},
   "outputs": [
    {
     "name": "stdout",
     "output_type": "stream",
     "text": [
      "=================================================================\n",
      "\n",
      "                         EVALUATE MODEL\n",
      "\n",
      "=================================================================\n",
      "\n",
      "30/30 [==============================] - 3s 106ms/step - loss: 0.8966 - accuracy: 0.6936\n",
      "Accuracy :  0.6935991644859314 \n",
      "\n",
      "Loss :  0.8965814113616943 \n",
      "\n"
     ]
    }
   ],
   "source": [
    "# show evaluate model (loss & accuracy)\n",
    "generate_model.showEvaluateModel(model, padded_sequences_test2, Y_test)"
   ]
  },
  {
   "cell_type": "code",
   "execution_count": 37,
   "id": "148e560a",
   "metadata": {},
   "outputs": [
    {
     "name": "stdout",
     "output_type": "stream",
     "text": [
      "=================================================================\n",
      "\n",
      "                       CONFUSION MATRIX\n",
      "\n",
      "=================================================================\n",
      "\n"
     ]
    },
    {
     "data": {
      "image/png": "[encoded data removed]",
      "text/plain": [
       "<Figure size 432x288 with 2 Axes>"
      ]
     },
     "metadata": {
      "needs_background": "light"
     },
     "output_type": "display_data"
    }
   ],
   "source": [
    "# show confusion matrix\n",
    "df_cm = generate_model.showConfusionMatrix(Y_test, predictions)"
   ]
  },
  {
   "cell_type": "code",
   "execution_count": 38,
   "id": "797f996d",
   "metadata": {},
   "outputs": [
    {
     "name": "stdout",
     "output_type": "stream",
     "text": [
      "=================================================================\n",
      "\n",
      "                       ACCURACY EACH CLASS\n",
      "\n",
      "=================================================================\n",
      "\n",
      "Accuracy Valid:  0.6935991605456453\n",
      "Accuracy Hoax:  0.6935991605456453\n"
     ]
    }
   ],
   "source": [
    "generate_model.showAccuracyEachClass(df_cm)"
   ]
  },
  {
   "cell_type": "code",
   "execution_count": 39,
   "id": "7c1f6621",
   "metadata": {},
   "outputs": [
    {
     "name": "stdout",
     "output_type": "stream",
     "text": [
      "INFO:tensorflow:Assets written to: /Users/Asus/Tugas Akhir/Experiment/Model/227\\assets\n"
     ]
    },
    {
     "name": "stderr",
     "output_type": "stream",
     "text": [
      "INFO:tensorflow:Assets written to: /Users/Asus/Tugas Akhir/Experiment/Model/227\\assets\n"
     ]
    }
   ],
   "source": [
    "# generate_model.saveModel(model, 225)"
   ]
  },
  {
   "cell_type": "code",
   "execution_count": 40,
   "id": "3aed4030",
   "metadata": {},
   "outputs": [
    {
     "name": "stdout",
     "output_type": "stream",
     "text": [
      "Model: \"sequential_1\"\n",
      "_________________________________________________________________\n",
      " Layer (type)                Output Shape              Param #   \n",
      "=================================================================\n",
      " embedding_1 (Embedding)     (None, 335, 100)          40000000  \n",
      "                                                                 \n",
      " lstm_1 (LSTM)               (None, 64)                42240     \n",
      "                                                                 \n",
      " dense_1 (Dense)             (None, 1)                 65        \n",
      "                                                                 \n",
      "=================================================================\n",
      "Total params: 40042305 (152.75 MB)\n",
      "Trainable params: 42305 (165.25 KB)\n",
      "Non-trainable params: 40000000 (152.59 MB)\n",
      "_________________________________________________________________\n"
     ]
    }
   ],
   "source": [
    "loaded_model = generate_model.loadModel(225)\n",
    "loaded_model.summary()"
   ]
  },
  {
   "cell_type": "markdown",
   "id": "c9401275",
   "metadata": {},
   "source": [
    "# FastText "
   ]
  },
  {
   "cell_type": "code",
   "execution_count": 41,
   "id": "d8e6bc38",
   "metadata": {},
   "outputs": [
    {
     "name": "stdout",
     "output_type": "stream",
     "text": [
      "=================================================================\n",
      "\n",
      "                           MODEL SUMMARY\n",
      "\n",
      "=================================================================\n",
      "\n",
      "Model: \"sequential_2\"\n",
      "_________________________________________________________________\n",
      " Layer (type)                Output Shape              Param #   \n",
      "=================================================================\n",
      " embedding_2 (Embedding)     (None, 335, 100)          3421700   \n",
      "                                                                 \n",
      " lstm_2 (LSTM)               (None, 64)                42240     \n",
      "                                                                 \n",
      " dense_2 (Dense)             (None, 1)                 65        \n",
      "                                                                 \n",
      "=================================================================\n",
      "Total params: 3464005 (13.21 MB)\n",
      "Trainable params: 42305 (165.25 KB)\n",
      "Non-trainable params: 3421700 (13.05 MB)\n",
      "_________________________________________________________________\n"
     ]
    }
   ],
   "source": [
    "model = generate_model.createModel(100, fastText100d)"
   ]
  },
  {
   "cell_type": "code",
   "execution_count": 42,
   "id": "cb741277",
   "metadata": {},
   "outputs": [
    {
     "name": "stdout",
     "output_type": "stream",
     "text": [
      "Epoch 1/30\n",
      "30/30 [==============================] - 30s 874ms/step - loss: 0.5733 - accuracy: 0.7112 - val_loss: 0.4027 - val_accuracy: 0.8153\n",
      "Epoch 2/30\n",
      "30/30 [==============================] - 27s 898ms/step - loss: 0.4415 - accuracy: 0.8002 - val_loss: 0.4436 - val_accuracy: 0.7933\n",
      "Epoch 3/30\n",
      "30/30 [==============================] - 27s 919ms/step - loss: 0.4196 - accuracy: 0.8041 - val_loss: 0.3620 - val_accuracy: 0.8489\n",
      "Epoch 4/30\n",
      "30/30 [==============================] - 23s 766ms/step - loss: 0.4076 - accuracy: 0.8149 - val_loss: 0.4221 - val_accuracy: 0.7996\n",
      "Epoch 5/30\n",
      "30/30 [==============================] - 27s 906ms/step - loss: 0.4024 - accuracy: 0.8183 - val_loss: 0.4172 - val_accuracy: 0.8122\n",
      "Epoch 6/30\n",
      "30/30 [==============================] - 24s 790ms/step - loss: 0.4092 - accuracy: 0.8186 - val_loss: 0.4925 - val_accuracy: 0.7324\n",
      "Epoch 7/30\n",
      "30/30 [==============================] - 24s 815ms/step - loss: 0.5252 - accuracy: 0.7522 - val_loss: 0.5023 - val_accuracy: 0.7503\n",
      "Epoch 8/30\n",
      "30/30 [==============================] - 21s 707ms/step - loss: 0.4605 - accuracy: 0.7768 - val_loss: 0.4517 - val_accuracy: 0.7744\n",
      "Epoch 9/30\n",
      "30/30 [==============================] - 21s 715ms/step - loss: 0.4303 - accuracy: 0.7994 - val_loss: 0.4687 - val_accuracy: 0.7733\n",
      "Epoch 10/30\n",
      "30/30 [==============================] - 23s 764ms/step - loss: 0.4405 - accuracy: 0.7923 - val_loss: 0.4379 - val_accuracy: 0.7859\n",
      "Epoch 11/30\n",
      "30/30 [==============================] - 23s 756ms/step - loss: 0.4411 - accuracy: 0.7921 - val_loss: 0.5583 - val_accuracy: 0.7156\n",
      "Epoch 12/30\n",
      "30/30 [==============================] - 20s 681ms/step - loss: 0.4551 - accuracy: 0.7808 - val_loss: 0.4777 - val_accuracy: 0.7702\n",
      "Epoch 13/30\n",
      "30/30 [==============================] - 25s 857ms/step - loss: 0.4358 - accuracy: 0.8036 - val_loss: 0.3925 - val_accuracy: 0.8269\n",
      "Epoch 14/30\n",
      "30/30 [==============================] - 26s 873ms/step - loss: 0.3378 - accuracy: 0.8703 - val_loss: 0.2536 - val_accuracy: 0.9182\n",
      "Epoch 15/30\n",
      "30/30 [==============================] - 25s 817ms/step - loss: 0.2950 - accuracy: 0.8926 - val_loss: 0.2723 - val_accuracy: 0.9045\n",
      "Epoch 16/30\n",
      "30/30 [==============================] - 25s 843ms/step - loss: 0.2858 - accuracy: 0.8937 - val_loss: 0.3978 - val_accuracy: 0.8541\n",
      "Epoch 17/30\n",
      "30/30 [==============================] - 25s 841ms/step - loss: 0.2801 - accuracy: 0.9010 - val_loss: 0.2827 - val_accuracy: 0.9087\n",
      "Epoch 18/30\n",
      "30/30 [==============================] - 30s 1s/step - loss: 0.2640 - accuracy: 0.9050 - val_loss: 0.2428 - val_accuracy: 0.9203\n",
      "Epoch 19/30\n",
      "30/30 [==============================] - 29s 969ms/step - loss: 0.2655 - accuracy: 0.8984 - val_loss: 0.2509 - val_accuracy: 0.9024\n",
      "Epoch 20/30\n",
      "30/30 [==============================] - 27s 886ms/step - loss: 0.2591 - accuracy: 0.8997 - val_loss: 0.2687 - val_accuracy: 0.8951\n",
      "Epoch 21/30\n",
      "30/30 [==============================] - 29s 964ms/step - loss: 0.2549 - accuracy: 0.9089 - val_loss: 0.2353 - val_accuracy: 0.9171\n",
      "Epoch 22/30\n",
      "30/30 [==============================] - 28s 932ms/step - loss: 0.2515 - accuracy: 0.9147 - val_loss: 0.2297 - val_accuracy: 0.9182\n",
      "Epoch 23/30\n",
      "30/30 [==============================] - 25s 854ms/step - loss: 0.2363 - accuracy: 0.9189 - val_loss: 0.2364 - val_accuracy: 0.9203\n",
      "Epoch 24/30\n",
      "30/30 [==============================] - 29s 963ms/step - loss: 0.2259 - accuracy: 0.9215 - val_loss: 0.2397 - val_accuracy: 0.9129\n",
      "Epoch 25/30\n",
      "30/30 [==============================] - 28s 947ms/step - loss: 0.2303 - accuracy: 0.9218 - val_loss: 0.2225 - val_accuracy: 0.9182\n",
      "Epoch 26/30\n",
      "30/30 [==============================] - 24s 806ms/step - loss: 0.2218 - accuracy: 0.9223 - val_loss: 0.2168 - val_accuracy: 0.9192\n",
      "Epoch 27/30\n",
      "30/30 [==============================] - 26s 873ms/step - loss: 0.2146 - accuracy: 0.9270 - val_loss: 0.2076 - val_accuracy: 0.9276\n",
      "Epoch 28/30\n",
      "30/30 [==============================] - 25s 820ms/step - loss: 0.2134 - accuracy: 0.9307 - val_loss: 0.2186 - val_accuracy: 0.9276\n",
      "Epoch 29/30\n",
      "30/30 [==============================] - 23s 778ms/step - loss: 0.2132 - accuracy: 0.9294 - val_loss: 0.2378 - val_accuracy: 0.9276\n",
      "Epoch 30/30\n",
      "30/30 [==============================] - 24s 789ms/step - loss: 0.2477 - accuracy: 0.9160 - val_loss: 0.2419 - val_accuracy: 0.9129\n"
     ]
    }
   ],
   "source": [
    "lstm = model.fit(padded_sequences_train, Y_train, validation_data=(padded_sequences_test3, Y_test), epochs = 30, batch_size=128)"
   ]
  },
  {
   "cell_type": "code",
   "execution_count": 43,
   "id": "a4c1079b",
   "metadata": {},
   "outputs": [
    {
     "name": "stdout",
     "output_type": "stream",
     "text": [
      "=================================================================\n",
      "\n",
      "                        PLOT ACCURACY MODEL\n",
      "\n",
      "=================================================================\n",
      "\n"
     ]
    },
    {
     "data": {
      "image/png": "[encoded data removed]",
      "text/plain": [
       "<Figure size 432x288 with 1 Axes>"
      ]
     },
     "metadata": {
      "needs_background": "light"
     },
     "output_type": "display_data"
    }
   ],
   "source": [
    "# create plot accuracy & val accuracy\n",
    "generate_model.showPlotAccuracyModel(lstm)"
   ]
  },
  {
   "cell_type": "code",
   "execution_count": 44,
   "id": "70e547f3",
   "metadata": {},
   "outputs": [
    {
     "name": "stdout",
     "output_type": "stream",
     "text": [
      "=================================================================\n",
      "\n",
      "                          PLOT LOSS MODEL\n",
      "\n",
      "=================================================================\n",
      "\n"
     ]
    },
    {
     "data": {
      "image/png": "[encoded data removed]",
      "text/plain": [
       "<Figure size 432x288 with 1 Axes>"
      ]
     },
     "metadata": {
      "needs_background": "light"
     },
     "output_type": "display_data"
    }
   ],
   "source": [
    "# create plot loss & val loss\n",
    "generate_model.showPlotLossModel(lstm)"
   ]
  },
  {
   "cell_type": "code",
   "execution_count": 45,
   "id": "95a75aba",
   "metadata": {},
   "outputs": [
    {
     "name": "stdout",
     "output_type": "stream",
     "text": [
      "=================================================================\n",
      "\n",
      "                      CLASSIFICATION REPORT\n",
      "\n",
      "=================================================================\n",
      "\n",
      "30/30 [==============================] - 4s 106ms/step\n",
      "Accuracy:  0.912906610703043\n",
      "              precision    recall  f1-score   support\n",
      "\n",
      "        hoax       0.98      0.84      0.90       469\n",
      "       valid       0.87      0.98      0.92       484\n",
      "\n",
      "    accuracy                           0.91       953\n",
      "   macro avg       0.92      0.91      0.91       953\n",
      "weighted avg       0.92      0.91      0.91       953\n",
      "\n"
     ]
    }
   ],
   "source": [
    "# create classification report\n",
    "predictions = generate_model.createPredictionClassificationReport(model, padded_sequences_test3, Y_test)"
   ]
  },
  {
   "cell_type": "code",
   "execution_count": 46,
   "id": "87cd6465",
   "metadata": {},
   "outputs": [
    {
     "name": "stdout",
     "output_type": "stream",
     "text": [
      "=================================================================\n",
      "\n",
      "                         EVALUATE MODEL\n",
      "\n",
      "=================================================================\n",
      "\n",
      "30/30 [==============================] - 3s 108ms/step - loss: 0.2419 - accuracy: 0.9129\n",
      "Accuracy :  0.9129065871238708 \n",
      "\n",
      "Loss :  0.24188163876533508 \n",
      "\n"
     ]
    }
   ],
   "source": [
    "# show evaluate model (loss & accuracy)\n",
    "generate_model.showEvaluateModel(model, padded_sequences_test3, Y_test)"
   ]
  },
  {
   "cell_type": "code",
   "execution_count": 47,
   "id": "257de7bb",
   "metadata": {},
   "outputs": [
    {
     "name": "stdout",
     "output_type": "stream",
     "text": [
      "=================================================================\n",
      "\n",
      "                       CONFUSION MATRIX\n",
      "\n",
      "=================================================================\n",
      "\n"
     ]
    },
    {
     "data": {
      "image/png": "[encoded data removed]",
      "text/plain": [
       "<Figure size 432x288 with 2 Axes>"
      ]
     },
     "metadata": {
      "needs_background": "light"
     },
     "output_type": "display_data"
    }
   ],
   "source": [
    "# show confusion matrix\n",
    "df_cm = generate_model.showConfusionMatrix(Y_test, predictions)"
   ]
  },
  {
   "cell_type": "code",
   "execution_count": 48,
   "id": "396f79b7",
   "metadata": {},
   "outputs": [
    {
     "name": "stdout",
     "output_type": "stream",
     "text": [
      "=================================================================\n",
      "\n",
      "                       ACCURACY EACH CLASS\n",
      "\n",
      "=================================================================\n",
      "\n",
      "Accuracy Valid:  0.912906610703043\n",
      "Accuracy Hoax:  0.912906610703043\n"
     ]
    }
   ],
   "source": [
    "generate_model.showAccuracyEachClass(df_cm)"
   ]
  },
  {
   "cell_type": "code",
   "execution_count": 49,
   "id": "2efb8a1b",
   "metadata": {},
   "outputs": [
    {
     "name": "stdout",
     "output_type": "stream",
     "text": [
      "INFO:tensorflow:Assets written to: /Users/Asus/Tugas Akhir/Experiment/Model/327\\assets\n"
     ]
    },
    {
     "name": "stderr",
     "output_type": "stream",
     "text": [
      "INFO:tensorflow:Assets written to: /Users/Asus/Tugas Akhir/Experiment/Model/327\\assets\n"
     ]
    }
   ],
   "source": [
    "# generate_model.saveModel(model, 325)"
   ]
  },
  {
   "cell_type": "code",
   "execution_count": 50,
   "id": "497aaa6d",
   "metadata": {},
   "outputs": [
    {
     "name": "stdout",
     "output_type": "stream",
     "text": [
      "Model: \"sequential_2\"\n",
      "_________________________________________________________________\n",
      " Layer (type)                Output Shape              Param #   \n",
      "=================================================================\n",
      " embedding_2 (Embedding)     (None, 335, 100)          3421700   \n",
      "                                                                 \n",
      " lstm_2 (LSTM)               (None, 64)                42240     \n",
      "                                                                 \n",
      " dense_2 (Dense)             (None, 1)                 65        \n",
      "                                                                 \n",
      "=================================================================\n",
      "Total params: 3464005 (13.21 MB)\n",
      "Trainable params: 42305 (165.25 KB)\n",
      "Non-trainable params: 3421700 (13.05 MB)\n",
      "_________________________________________________________________\n"
     ]
    }
   ],
   "source": [
    "loaded_model = generate_model.loadModel(325)\n",
    "loaded_model.summary()"
   ]
  },
  {
   "cell_type": "markdown",
   "id": "03ca7a36",
   "metadata": {},
   "source": [
    "# GUI"
   ]
  },
  {
   "cell_type": "code",
   "execution_count": 18,
   "id": "31432e24",
   "metadata": {},
   "outputs": [
    {
     "name": "stdout",
     "output_type": "stream",
     "text": [
      "Requirement already satisfied: flask in c:\\users\\asus\\anaconda3\\lib\\site-packages (1.1.2)\n",
      "Requirement already satisfied: click>=5.1 in c:\\users\\asus\\anaconda3\\lib\\site-packages (from flask) (8.0.3)\n",
      "Requirement already satisfied: itsdangerous>=0.24 in c:\\users\\asus\\anaconda3\\lib\\site-packages (from flask) (2.0.1)\n",
      "Requirement already satisfied: Jinja2>=2.10.1 in c:\\users\\asus\\anaconda3\\lib\\site-packages (from flask) (2.11.3)\n",
      "Requirement already satisfied: Werkzeug>=0.15 in c:\\users\\asus\\anaconda3\\lib\\site-packages (from flask) (2.0.2)\n",
      "Requirement already satisfied: colorama in c:\\users\\asus\\anaconda3\\lib\\site-packages (from click>=5.1->flask) (0.4.4)\n",
      "Requirement already satisfied: MarkupSafe>=0.23 in c:\\users\\asus\\anaconda3\\lib\\site-packages (from Jinja2>=2.10.1->flask) (1.1.1)\n",
      "Requirement already satisfied: flask_ngrok in c:\\users\\asus\\anaconda3\\lib\\site-packages (0.0.25)\n",
      "Requirement already satisfied: Flask>=0.8 in c:\\users\\asus\\anaconda3\\lib\\site-packages (from flask_ngrok) (1.1.2)\n",
      "Requirement already satisfied: requests in c:\\users\\asus\\anaconda3\\lib\\site-packages (from flask_ngrok) (2.26.0)\n",
      "Requirement already satisfied: Werkzeug>=0.15 in c:\\users\\asus\\anaconda3\\lib\\site-packages (from Flask>=0.8->flask_ngrok) (2.0.2)\n",
      "Requirement already satisfied: Jinja2>=2.10.1 in c:\\users\\asus\\anaconda3\\lib\\site-packages (from Flask>=0.8->flask_ngrok) (2.11.3)\n",
      "Requirement already satisfied: itsdangerous>=0.24 in c:\\users\\asus\\anaconda3\\lib\\site-packages (from Flask>=0.8->flask_ngrok) (2.0.1)\n",
      "Requirement already satisfied: click>=5.1 in c:\\users\\asus\\anaconda3\\lib\\site-packages (from Flask>=0.8->flask_ngrok) (8.0.3)\n",
      "Requirement already satisfied: colorama in c:\\users\\asus\\anaconda3\\lib\\site-packages (from click>=5.1->Flask>=0.8->flask_ngrok) (0.4.4)\n",
      "Requirement already satisfied: MarkupSafe>=0.23 in c:\\users\\asus\\anaconda3\\lib\\site-packages (from Jinja2>=2.10.1->Flask>=0.8->flask_ngrok) (1.1.1)\n",
      "Requirement already satisfied: certifi>=2017.4.17 in c:\\users\\asus\\anaconda3\\lib\\site-packages (from requests->flask_ngrok) (2021.10.8)\n",
      "Requirement already satisfied: urllib3<1.27,>=1.21.1 in c:\\users\\asus\\anaconda3\\lib\\site-packages (from requests->flask_ngrok) (1.26.7)\n",
      "Requirement already satisfied: idna<4,>=2.5 in c:\\users\\asus\\anaconda3\\lib\\site-packages (from requests->flask_ngrok) (2.10)\n",
      "Requirement already satisfied: charset-normalizer~=2.0.0 in c:\\users\\asus\\anaconda3\\lib\\site-packages (from requests->flask_ngrok) (2.0.4)\n"
     ]
    }
   ],
   "source": [
    "# GUI\n",
    "!pip install flask\n",
    "!pip install flask_ngrok\n",
    "from flask import Flask, render_template, request, jsonify #render template HTML, akses ke data yang dikirimkan oleh klien ke server, mengubah objek Python menjadi respons JSON.\n",
    "from flask_ngrok import run_with_ngrok #akses server Flask Anda melalui URL publik, integrasikan ngrok dengan server Flask Anda "
   ]
  },
  {
   "cell_type": "code",
   "execution_count": 19,
   "id": "2d3db40d",
   "metadata": {},
   "outputs": [],
   "source": [
    "class GUI:\n",
    "\n",
    "    def __init__(self):\n",
    "        template_path = '/Users/Asus/Tugas Akhir/GUI/templates'\n",
    "        static_path = '/Users/Asus/Tugas Akhir/GUI/static'\n",
    "        self.app = Flask(__name__, template_folder=template_path, static_folder=static_path)\n",
    "        self.hoax_model_generator = GenerateModel()\n",
    "\n",
    "    def start_gui(self):\n",
    "        run_with_ngrok(self.app)\n",
    "\n",
    "        @self.app.route(\"/\")\n",
    "        def home():\n",
    "            return render_template('index.html')\n",
    "\n",
    "        @self.app.route('/predict', methods=['POST'])\n",
    "        def predict():\n",
    "            data = request.get_json()\n",
    "            text_input = data['textInput']\n",
    "            print('text:',text_input)\n",
    "            \n",
    "            #tokenization for embedding\n",
    "            dataTokenization = [nltk.word_tokenize(text_input)]\n",
    "            \n",
    "            # Menyusun kamus kata-kata berdasarkan teks\n",
    "            tokenizerKeras.fit_on_texts(dataTokenization)\n",
    "            \n",
    "            # Tokenisasi teks dan konversi menjadi vektor\n",
    "            sequence = tokenizerKeras.texts_to_sequences(dataTokenization)\n",
    "            print('sequence :',sequence)\n",
    "            padded_sequence = pad_sequences(sequence, maxlen=max_word_length, padding='pre')\n",
    "            print('padded_sequence',padded_sequence)\n",
    "            print(padded_sequence.shape)\n",
    "            \n",
    "            # Load model\n",
    "            model = self.hoax_model_generator.loadModel(125)\n",
    "            model.summary()\n",
    "            \n",
    "            # Lakukan prediksi menggunakan model\n",
    "            prediction = model.predict(padded_sequence)\n",
    "            print(prediction)\n",
    "            \n",
    "            # Tampilkan hasil prediksi\n",
    "            threshold =0.5\n",
    "            result = \"Hoax\" if prediction >threshold else \"Valid\"\n",
    "\n",
    "            # Return the prediction as a JSON response\n",
    "            return jsonify({'prediction': result})\n",
    "\n",
    "        self.app.run()"
   ]
  },
  {
   "cell_type": "code",
   "execution_count": 20,
   "id": "bb61b202",
   "metadata": {},
   "outputs": [
    {
     "name": "stdout",
     "output_type": "stream",
     "text": [
      " * Serving Flask app \"__main__\" (lazy loading)\n",
      " * Environment: production\n",
      "\u001b[31m   WARNING: This is a development server. Do not use it in a production deployment.\u001b[0m\n",
      "\u001b[2m   Use a production WSGI server instead.\u001b[0m\n",
      " * Debug mode: off\n"
     ]
    },
    {
     "name": "stderr",
     "output_type": "stream",
     "text": [
      " * Running on http://127.0.0.1:5000/ (Press CTRL+C to quit)\n",
      "127.0.0.1 - - [14/Dec/2023 13:00:30] \"GET / HTTP/1.1\" 200 -\n",
      "127.0.0.1 - - [14/Dec/2023 13:00:33] \"GET /static/js/browser.min.js HTTP/1.1\" 200 -\n",
      "127.0.0.1 - - [14/Dec/2023 13:00:33] \"GET /static/js/jquery.scrolly.min.js HTTP/1.1\" 200 -\n",
      "127.0.0.1 - - [14/Dec/2023 13:00:33] \"GET /static/css/main.css HTTP/1.1\" 200 -\n",
      "127.0.0.1 - - [14/Dec/2023 13:00:33] \"GET /static/js/breakpoints.min.js HTTP/1.1\" 200 -\n",
      "127.0.0.1 - - [14/Dec/2023 13:00:33] \"GET /static/js/jquery.scrollex.min.js HTTP/1.1\" 200 -\n",
      "127.0.0.1 - - [14/Dec/2023 13:00:33] \"GET /static/js/util.js HTTP/1.1\" 200 -\n",
      "127.0.0.1 - - [14/Dec/2023 13:00:33] \"GET /static/js/main.js HTTP/1.1\" 200 -\n",
      "127.0.0.1 - - [14/Dec/2023 13:00:33] \"GET /static/js/jquery.min.js HTTP/1.1\" 200 -\n",
      "127.0.0.1 - - [14/Dec/2023 13:00:33] \"GET /static/favicon.ico HTTP/1.1\" 404 -\n",
      "Exception in thread Thread-12:\n",
      "Traceback (most recent call last):\n",
      "  File \"C:\\Users\\Asus\\anaconda3\\lib\\site-packages\\urllib3\\connection.py\", line 174, in _new_conn\n",
      "    conn = connection.create_connection(\n",
      "  File \"C:\\Users\\Asus\\anaconda3\\lib\\site-packages\\urllib3\\util\\connection.py\", line 96, in create_connection\n",
      "    raise err\n",
      "  File \"C:\\Users\\Asus\\anaconda3\\lib\\site-packages\\urllib3\\util\\connection.py\", line 86, in create_connection\n",
      "    sock.connect(sa)\n",
      "ConnectionRefusedError: [WinError 10061] No connection could be made because the target machine actively refused it\n",
      "\n",
      "During handling of the above exception, another exception occurred:\n",
      "\n",
      "Traceback (most recent call last):\n",
      "  File \"C:\\Users\\Asus\\anaconda3\\lib\\site-packages\\urllib3\\connectionpool.py\", line 699, in urlopen\n",
      "    httplib_response = self._make_request(\n",
      "  File \"C:\\Users\\Asus\\anaconda3\\lib\\site-packages\\urllib3\\connectionpool.py\", line 394, in _make_request\n",
      "    conn.request(method, url, **httplib_request_kw)\n",
      "  File \"C:\\Users\\Asus\\anaconda3\\lib\\site-packages\\urllib3\\connection.py\", line 239, in request\n",
      "    super(HTTPConnection, self).request(method, url, body=body, headers=headers)\n",
      "  File \"C:\\Users\\Asus\\anaconda3\\lib\\http\\client.py\", line 1279, in request\n",
      "    self._send_request(method, url, body, headers, encode_chunked)\n",
      "  File \"C:\\Users\\Asus\\anaconda3\\lib\\http\\client.py\", line 1325, in _send_request\n",
      "    self.endheaders(body, encode_chunked=encode_chunked)\n",
      "  File \"C:\\Users\\Asus\\anaconda3\\lib\\http\\client.py\", line 1274, in endheaders\n",
      "    self._send_output(message_body, encode_chunked=encode_chunked)\n",
      "  File \"C:\\Users\\Asus\\anaconda3\\lib\\http\\client.py\", line 1034, in _send_output\n",
      "    self.send(msg)\n",
      "  File \"C:\\Users\\Asus\\anaconda3\\lib\\http\\client.py\", line 974, in send\n",
      "    self.connect()\n",
      "  File \"C:\\Users\\Asus\\anaconda3\\lib\\site-packages\\urllib3\\connection.py\", line 205, in connect\n",
      "    conn = self._new_conn()\n",
      "  File \"C:\\Users\\Asus\\anaconda3\\lib\\site-packages\\urllib3\\connection.py\", line 186, in _new_conn\n",
      "    raise NewConnectionError(\n",
      "urllib3.exceptions.NewConnectionError: <urllib3.connection.HTTPConnection object at 0x0000024E90309DF0>: Failed to establish a new connection: [WinError 10061] No connection could be made because the target machine actively refused it\n",
      "\n",
      "During handling of the above exception, another exception occurred:\n",
      "\n",
      "Traceback (most recent call last):\n",
      "  File \"C:\\Users\\Asus\\anaconda3\\lib\\site-packages\\requests\\adapters.py\", line 439, in send\n",
      "    resp = conn.urlopen(\n",
      "  File \"C:\\Users\\Asus\\anaconda3\\lib\\site-packages\\urllib3\\connectionpool.py\", line 755, in urlopen\n",
      "    retries = retries.increment(\n",
      "  File \"C:\\Users\\Asus\\anaconda3\\lib\\site-packages\\urllib3\\util\\retry.py\", line 574, in increment\n",
      "    raise MaxRetryError(_pool, url, error or ResponseError(cause))\n",
      "urllib3.exceptions.MaxRetryError: HTTPConnectionPool(host='localhost', port=4040): Max retries exceeded with url: /api/tunnels (Caused by NewConnectionError('<urllib3.connection.HTTPConnection object at 0x0000024E90309DF0>: Failed to establish a new connection: [WinError 10061] No connection could be made because the target machine actively refused it'))\n",
      "\n",
      "During handling of the above exception, another exception occurred:\n",
      "\n",
      "Traceback (most recent call last):\n",
      "  File \"C:\\Users\\Asus\\anaconda3\\lib\\threading.py\", line 973, in _bootstrap_inner\n",
      "    self.run()\n",
      "  File \"C:\\Users\\Asus\\anaconda3\\lib\\threading.py\", line 1286, in run\n",
      "    self.function(*self.args, **self.kwargs)\n",
      "  File \"C:\\Users\\Asus\\anaconda3\\lib\\site-packages\\flask_ngrok.py\", line 70, in start_ngrok\n",
      "    ngrok_address = _run_ngrok()\n",
      "  File \"C:\\Users\\Asus\\anaconda3\\lib\\site-packages\\flask_ngrok.py\", line 35, in _run_ngrok\n",
      "    tunnel_url = requests.get(localhost_url).text  # Get the tunnel information\n",
      "  File \"C:\\Users\\Asus\\anaconda3\\lib\\site-packages\\requests\\api.py\", line 75, in get\n",
      "    return request('get', url, params=params, **kwargs)\n",
      "  File \"C:\\Users\\Asus\\anaconda3\\lib\\site-packages\\requests\\api.py\", line 61, in request\n",
      "    return session.request(method=method, url=url, **kwargs)\n",
      "  File \"C:\\Users\\Asus\\anaconda3\\lib\\site-packages\\requests\\sessions.py\", line 542, in request\n",
      "    resp = self.send(prep, **send_kwargs)\n",
      "  File \"C:\\Users\\Asus\\anaconda3\\lib\\site-packages\\requests\\sessions.py\", line 655, in send\n",
      "    r = adapter.send(request, **kwargs)\n",
      "  File \"C:\\Users\\Asus\\anaconda3\\lib\\site-packages\\requests\\adapters.py\", line 516, in send\n",
      "    raise ConnectionError(e, request=request)\n",
      "requests.exceptions.ConnectionError: HTTPConnectionPool(host='localhost', port=4040): Max retries exceeded with url: /api/tunnels (Caused by NewConnectionError('<urllib3.connection.HTTPConnection object at 0x0000024E90309DF0>: Failed to establish a new connection: [WinError 10061] No connection could be made because the target machine actively refused it'))\n"
     ]
    },
    {
     "name": "stdout",
     "output_type": "stream",
     "text": [
      "text: Presidential candidate number 1 Anies Baswedan's remarks about the founder of the Republic of Indonesia building a country not for children and nephews were shot back by TKN Prabowo Subianto-Gibran Rakabuming Raka. Various comments from TKN Prabowo-Gibran officials responded to Anies' statement.\n",
      "Anies spoke about the founder of the Republic of Indonesia who did not prioritize his own personality or group when visiting Bung Karno's exile house in Bengkulu, Wednesday (6/12). Anies saw several historical collections from Indonesia's first President. Anies also took time to wash his face at the well located behind the historic house.\n",
      "\n",
      "\"This republic was founded by educated individuals, intellectuals, intellectuals, whose minds were formed not only by reading, but by life experience. They experienced oppression, they experienced detention, and they had broad insight,\" said Anies, in a written statement. , Thursday (7/12).\n",
      "\n",
      "Anies invited all parties to return to Indonesia's ideals, namely bringing justice to all people. \"Today we went to Bengkulu to stop by where Bung Karno lived from 38 to 42. We want to remind ourselves and everyone. Let's go back to the original ideals of the founders of this republic. They founded the Republic to bring social justice,\" said Anies .\n",
      "\n",
      "Furthermore, Anies also has a commitment to developing various historical destinations. Anies will make improvements and innovations to make historical places more interesting to visit.\n",
      "\n",
      "\"Secondly, the commitment that we have observed means that these places will be looked after and developed and made more attractive so that more young people have the opportunity to learn,\" he said.\n",
      "sequence : [[35, 48, 98, 2571, 69, 178, 8, 24956, 28, 2, 5800, 3, 2, 271, 3, 54, 368, 5, 97, 26, 9, 534, 25, 24957, 328, 2709, 395, 79, 10900, 135, 24958, 1214, 24959, 6, 1168, 864, 72, 10900, 24960, 713, 2286, 4, 69, 456, 1190, 6, 69, 1968, 28, 2, 5800, 3, 2, 271, 3, 54, 39, 358, 26, 8171, 171, 511, 3309, 159, 399, 71, 1585, 1173, 1265, 8, 24961, 197, 11, 4235, 1, 418, 10901, 24962, 10902, 6, 69, 1370, 412, 3339, 24963, 72, 54, 8, 108, 38, 6, 69, 65, 822, 44, 4, 4300, 171, 168, 64, 2, 261, 4019, 1077, 2, 7692, 197, 6, 1526, 30, 271, 62, 10903, 79, 8994, 2210, 1, 10904, 1, 10904, 1, 1889, 2599, 328, 2142, 26, 190, 79, 402, 1, 130, 79, 260, 1418, 6, 63, 1094, 10600, 1, 63, 1094, 7988, 1, 25, 63, 234, 3679, 10809, 1, 1820, 31, 69, 1, 11, 5, 2012, 1190, 6, 1, 580, 10901, 24964, 10902, 6, 69, 1636, 68, 78, 4, 808, 4, 54, 8, 5792, 1, 1713, 2513, 907, 4, 68, 20, 6, 1526, 209, 18, 1258, 4, 4235, 4, 508, 79, 463, 1173, 1265, 1898, 72, 24965, 4, 24966, 6, 18, 107, 4, 24967, 1731, 25, 111, 6, 337, 8, 164, 395, 4, 2, 998, 5792, 3, 2, 24968, 3, 30, 271, 6, 63, 10903, 2, 271, 4, 1049, 226, 907, 1, 1820, 31, 69, 6, 3798, 1, 69, 65, 40, 5, 821, 4, 2022, 1168, 3339, 7103, 6, 69, 13, 232, 7865, 25, 24969, 4, 232, 3339, 991, 61, 1772, 4, 397, 6, 1526, 24970, 1, 2, 821, 12, 18, 23, 24971, 633, 12, 1162, 991, 13, 15, 3910, 286, 25, 2765, 25, 624, 61, 4160, 53, 12, 61, 688, 20, 23, 2, 611, 4, 4700, 1, 1820, 37, 31, 6]]\n",
      "padded_sequence [[    0     0     0     0     0     0     0     0     0     0     0     0\n",
      "      0     0     0     0     0     0     0     0     0     0     0     0\n",
      "      0     0     0     0     0     0     0     0     0    35    48    98\n",
      "   2571    69   178     8 24956    28     2  5800     3     2   271     3\n",
      "     54   368     5    97    26     9   534    25 24957   328  2709   395\n",
      "     79 10900   135 24958  1214 24959     6  1168   864    72 10900 24960\n",
      "    713  2286     4    69   456  1190     6    69  1968    28     2  5800\n",
      "      3     2   271     3    54    39   358    26  8171   171   511  3309\n",
      "    159   399    71  1585  1173  1265     8 24961   197    11  4235     1\n",
      "    418 10901 24962 10902     6    69  1370   412  3339 24963    72    54\n",
      "      8   108    38     6    69    65   822    44     4  4300   171   168\n",
      "     64     2   261  4019  1077     2  7692   197     6  1526    30   271\n",
      "     62 10903    79  8994  2210     1 10904     1 10904     1  1889  2599\n",
      "    328  2142    26   190    79   402     1   130    79   260  1418     6\n",
      "     63  1094 10600     1    63  1094  7988     1    25    63   234  3679\n",
      "  10809     1  1820    31    69     1    11     5  2012  1190     6     1\n",
      "    580 10901 24964 10902     6    69  1636    68    78     4   808     4\n",
      "     54     8  5792     1  1713  2513   907     4    68    20     6  1526\n",
      "    209    18  1258     4  4235     4   508    79   463  1173  1265  1898\n",
      "     72 24965     4 24966     6    18   107     4 24967  1731    25   111\n",
      "      6   337     8   164   395     4     2   998  5792     3     2 24968\n",
      "      3    30   271     6    63 10903     2   271     4  1049   226   907\n",
      "      1  1820    31    69     6  3798     1    69    65    40     5   821\n",
      "      4  2022  1168  3339  7103     6    69    13   232  7865    25 24969\n",
      "      4   232  3339   991    61  1772     4   397     6  1526 24970     1\n",
      "      2   821    12    18    23 24971   633    12  1162   991    13    15\n",
      "   3910   286    25  2765    25   624    61  4160    53    12    61   688\n",
      "     20    23     2   611     4  4700     1  1820    37    31     6]]\n",
      "(1, 335)\n",
      "Model: \"sequential\"\n",
      "_________________________________________________________________\n",
      " Layer (type)                Output Shape              Param #   \n",
      "=================================================================\n",
      " embedding (Embedding)       (None, 335, 100)          3421700   \n",
      "                                                                 \n",
      " lstm (LSTM)                 (None, 64)                42240     \n",
      "                                                                 \n",
      " dense (Dense)               (None, 1)                 65        \n",
      "                                                                 \n",
      "=================================================================\n",
      "Total params: 3464005 (13.21 MB)\n",
      "Trainable params: 42305 (165.25 KB)\n",
      "Non-trainable params: 3421700 (13.05 MB)\n",
      "_________________________________________________________________\n",
      "1/1 [==============================] - 1s 1s/step\n"
     ]
    },
    {
     "name": "stderr",
     "output_type": "stream",
     "text": [
      "127.0.0.1 - - [14/Dec/2023 13:00:55] \"POST /predict HTTP/1.1\" 200 -\n"
     ]
    },
    {
     "name": "stdout",
     "output_type": "stream",
     "text": [
      "[[0.00850807]]\n"
     ]
    }
   ],
   "source": [
    "gui = GUI()\n",
    "gui.start_gui()"
   ]
  }
 ],
 "metadata": {
  "kernelspec": {
   "display_name": "Python 3 (ipykernel)",
   "language": "python",
   "name": "python3"
  },
  "language_info": {
   "codemirror_mode": {
    "name": "ipython",
    "version": 3
   },
   "file_extension": ".py",
   "mimetype": "text/x-python",
   "name": "python",
   "nbconvert_exporter": "python",
   "pygments_lexer": "ipython3",
   "version": "3.9.7"
  }
 },
 "nbformat": 4,
 "nbformat_minor": 5
}
